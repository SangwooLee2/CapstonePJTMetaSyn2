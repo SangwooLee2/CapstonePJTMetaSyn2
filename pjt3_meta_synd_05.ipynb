{
 "cells": [
  {
   "cell_type": "markdown",
   "metadata": {},
   "source": [
    "# ML project"
   ]
  },
  {
   "cell_type": "markdown",
   "metadata": {},
   "source": [
    "# Library import, etc"
   ]
  },
  {
   "cell_type": "code",
   "execution_count": 442,
   "metadata": {
    "collapsed": true
   },
   "outputs": [],
   "source": [
    "import numpy as np\n",
    "import pandas as pd\n",
    "import matplotlib.pyplot as plt\n",
    "plt.style.use('ggplot')\n",
    "%matplotlib inline"
   ]
  },
  {
   "cell_type": "code",
   "execution_count": 443,
   "metadata": {
    "collapsed": true
   },
   "outputs": [],
   "source": [
    "import pandas as pd\n",
    "import matplotlib.pyplot as plt\n",
    "import seaborn as sns\n",
    "import numpy as np\n",
    "from scipy.stats import norm\n",
    "from sklearn.preprocessing import StandardScaler\n",
    "from scipy import stats\n",
    "import warnings\n",
    "warnings.filterwarnings('ignore')\n",
    "%matplotlib inline\n",
    "\n",
    "np.random.seed(1)"
   ]
  },
  {
   "cell_type": "code",
   "execution_count": 444,
   "metadata": {
    "collapsed": true
   },
   "outputs": [],
   "source": [
    "import sklearn\n",
    "import warnings\n",
    "warnings.filterwarnings(action=\"ignore\", module=\"scipy\", message=\"^internal gelsd\")\n",
    "%matplotlib inline"
   ]
  },
  {
   "cell_type": "code",
   "execution_count": 445,
   "metadata": {
    "collapsed": true
   },
   "outputs": [],
   "source": [
    "DoNormalization = 'y' # input('Enter your input to do standardization (Y or N):')      # If you use Python 3"
   ]
  },
  {
   "cell_type": "code",
   "execution_count": 446,
   "metadata": {
    "collapsed": true
   },
   "outputs": [],
   "source": [
    "if 0:\n",
    "    corr_thre = input('input corr_thre(default:0.4)')\n",
    "    corr_thre = float(corr_thre)\n",
    "    DoNormalization = 'y'  # input('Enter your input to do standardization (Y or N):')      # If you use Python 3\n",
    "    DoMultiColEnh = 'n' # input('Enter your input to enhance multi colinearity (Y or N):')      # If you use Python 3\n",
    "    if (DoMultiColEnh =='y' or DoMultiColEnh =='Y'):\n",
    "        MultiCol_R2_thre = input('Enter R2 threshold to enhance multicolinearity(0-1):')\n",
    "        MultiCol_R2_thre = float(MultiCol_R2_thre)    \n",
    "    UseBicAicOverwrite = input('Overwite by using feature list found by Aic or Aic:(y or n)/')      # If you use Python 3\n",
    "    if( UseBicAicOverwrite =='y' or UseBicAicOverwrite  =='Y'):\n",
    "        UseBicAicOverwriteChoice = input('1(forwardAIC), 2(backwardAIC), 3(bothAIC.empty), 4(bothAIC.full),\\\n",
    "        5(forwardBIC), 6(backwardBIC), 7(bothBIC.empty), 8(bothBIC.full) ')\n",
    "        UseBicAicOverwriteChoice = int(UseBicAicOverwriteChoice)   \n",
    "    OutlierFactor = input('Enter outlier factor(default 5, 4 to remove more, 6 to remove less)')\n",
    "    OutlierFactor = int(OutlierFactor)    "
   ]
  },
  {
   "cell_type": "code",
   "execution_count": 447,
   "metadata": {
    "collapsed": true
   },
   "outputs": [],
   "source": [
    "N_folds = 7 # input('Enter # of folds for cross validation(ex:3,5,y=7,etc)')\n",
    "N_folds = int(N_folds)"
   ]
  },
  {
   "cell_type": "code",
   "execution_count": 448,
   "metadata": {},
   "outputs": [
    {
     "name": "stdout",
     "output_type": "stream",
     "text": [
      "1(inputA~score), 2(inputB~score), 3(inputC~score), 4(inputA~Msyndrome), 5(inputB~Msyndrome), 6(inputC~Msyndrome), arbitrary integer(otherwise) 7\n"
     ]
    }
   ],
   "source": [
    "ModelNum = input('1(inputA~score), 2(inputB~score), 3(inputC~score), \\\n",
    "4(inputA~Msyndrome), 5(inputB~Msyndrome), 6(inputC~Msyndrome), arbitrary integer(otherwise) ')\n",
    "\n",
    "ModelNum = int(ModelNum)"
   ]
  },
  {
   "cell_type": "code",
   "execution_count": 449,
   "metadata": {},
   "outputs": [
    {
     "name": "stdout",
     "output_type": "stream",
     "text": [
      "Enter y if want to resolve output unbalance proble y\n",
      "Enter Class Balance Ratio(0~1): 0.8\n",
      "Enter 1 for SMOTE, 2 for ADASYN, 3 for random under sampler, 4 for hybrid, 5 for SMOTEthanUndersampler, 6 for ADASYNandUndersampler5\n"
     ]
    }
   ],
   "source": [
    "DoBalanceY = input('Enter y if want to resolve output unbalance proble ')\n",
    "\n",
    "if DoBalanceY=='y' or DoBalanceY=='Y':\n",
    "    BalanceRatio = input('Enter Class Balance Ratio(0~1): ')\n",
    "    BalanceRatio = float(BalanceRatio)\n",
    "    SMOTEorADASYN = input('Enter 1 for SMOTE, 2 for ADASYN, 3 for random under sampler, 4 for hybrid, 5 for SMOTEthanUndersampler, 6 for ADASYNandUndersampler')\n",
    "    SMOTEorADASYN = int(SMOTEorADASYN)"
   ]
  },
  {
   "cell_type": "code",
   "execution_count": 450,
   "metadata": {},
   "outputs": [
    {
     "name": "stdout",
     "output_type": "stream",
     "text": [
      "1:accuracy, 2:f1, 3: balanced_accuracy, 4: f1_weighted, 5: precision, 6:recall   2\n"
     ]
    }
   ],
   "source": [
    "scoring_crit = input('1:accuracy, 2:f1, 3: balanced_accuracy, 4: f1_weighted, 5: precision, 6:recall   ')\n",
    "if scoring_crit=='1':\n",
    "    scoring_crit = 'accuracy'\n",
    "elif scoring_crit=='2':\n",
    "    scoring_crit = 'f1'\n",
    "elif scoring_crit == '3':\n",
    "    scoring_crit = 'balanced_accuracy'\n",
    "elif scoring_crit == '4':\n",
    "    scoring_crit =  'f1_weighted'   \n",
    "elif scoring_crit == '5':\n",
    "    scoring_crit =  'precision'   \n",
    "elif scoring_crit == '6':    \n",
    "    scoring_crit = 'recall'    "
   ]
  },
  {
   "cell_type": "code",
   "execution_count": 451,
   "metadata": {},
   "outputs": [
    {
     "name": "stdout",
     "output_type": "stream",
     "text": [
      "Enter test_size(0~1):0.3\n"
     ]
    }
   ],
   "source": [
    "test_size = float( input('Enter test_size(0~1):') )"
   ]
  },
  {
   "cell_type": "code",
   "execution_count": 452,
   "metadata": {},
   "outputs": [
    {
     "name": "stdout",
     "output_type": "stream",
     "text": [
      "Enter 1 for standard, 2 for minmax, 3 for maxabs1\n"
     ]
    }
   ],
   "source": [
    "if (DoNormalization=='Y' or DoNormalization=='y'):\n",
    "    scaleType_choice = int( input('Enter 1 for standard, 2 for minmax, 3 for maxabs'))\n",
    "    if scaleType_choice==1:\n",
    "        scaleType = 'standard'\n",
    "    elif scaleType_choice==2:\n",
    "        scaleType = 'minmax'\n",
    "    elif scaleType_choice==3:\n",
    "        scaleType = 'maxabs'"
   ]
  },
  {
   "cell_type": "code",
   "execution_count": 453,
   "metadata": {
    "scrolled": true
   },
   "outputs": [
    {
     "name": "stdout",
     "output_type": "stream",
     "text": [
      "To do Multiple linear regression/classition, enter 1: 2\n",
      "To do random forest regression/classition, enter 1: 2\n",
      "To do KNN regression/classition, enter 1: 2\n",
      "To do LogReg, enter 1: 2\n"
     ]
    }
   ],
   "source": [
    "Do_ML = int(input('To do Multiple linear regression/classition, enter 1: '))\n",
    "Do_RF = int(input('To do random forest regression/classition, enter 1: '))\n",
    "if Do_RF ==1:\n",
    "    RF_grid_choice = int(input('RF grid choice, 1 for full test, 2 for simplified test: '))\n",
    "Do_KNN = int(input('To do KNN regression/classition, enter 1: '))\n",
    "Do_LogReg = int(input('To do LogReg, enter 1: '))"
   ]
  },
  {
   "cell_type": "code",
   "execution_count": 454,
   "metadata": {},
   "outputs": [
    {
     "name": "stdout",
     "output_type": "stream",
     "text": [
      "Enter 1 to do Kmeans clustering, 2 not to: 2\n"
     ]
    }
   ],
   "source": [
    "DoKmeansCluster = int(input('Enter 1 to do Kmeans clustering, 2 not to: '))\n",
    "\n",
    "if DoKmeansCluster == 1:\n",
    "    Kmeans_cl_size = int( input('Enter n_clusters for Kmeans clustering: ') )"
   ]
  },
  {
   "cell_type": "markdown",
   "metadata": {},
   "source": [
    "# Data Import"
   ]
  },
  {
   "cell_type": "code",
   "execution_count": 455,
   "metadata": {
    "collapsed": true
   },
   "outputs": [],
   "source": [
    "df = pd.read_csv('nonobese_final.csv', index_col=0, header = 1)"
   ]
  },
  {
   "cell_type": "code",
   "execution_count": 456,
   "metadata": {},
   "outputs": [
    {
     "data": {
      "text/html": [
       "<div>\n",
       "<style scoped>\n",
       "    .dataframe tbody tr th:only-of-type {\n",
       "        vertical-align: middle;\n",
       "    }\n",
       "\n",
       "    .dataframe tbody tr th {\n",
       "        vertical-align: top;\n",
       "    }\n",
       "\n",
       "    .dataframe thead th {\n",
       "        text-align: right;\n",
       "    }\n",
       "</style>\n",
       "<table border=\"1\" class=\"dataframe\">\n",
       "  <thead>\n",
       "    <tr style=\"text-align: right;\">\n",
       "      <th></th>\n",
       "      <th>age</th>\n",
       "      <th>sex</th>\n",
       "      <th>smoking</th>\n",
       "      <th>exercise</th>\n",
       "      <th>alchol</th>\n",
       "      <th>hypertension</th>\n",
       "      <th>Diabetes</th>\n",
       "      <th>Height</th>\n",
       "      <th>Weight</th>\n",
       "      <th>BMI</th>\n",
       "      <th>Metscore</th>\n",
       "      <th>Metasyn</th>\n",
       "    </tr>\n",
       "    <tr>\n",
       "      <th>mask_id</th>\n",
       "      <th></th>\n",
       "      <th></th>\n",
       "      <th></th>\n",
       "      <th></th>\n",
       "      <th></th>\n",
       "      <th></th>\n",
       "      <th></th>\n",
       "      <th></th>\n",
       "      <th></th>\n",
       "      <th></th>\n",
       "      <th></th>\n",
       "      <th></th>\n",
       "    </tr>\n",
       "  </thead>\n",
       "  <tbody>\n",
       "    <tr>\n",
       "      <th>GC15A1321697346</th>\n",
       "      <td>30</td>\n",
       "      <td>1</td>\n",
       "      <td>0</td>\n",
       "      <td>0</td>\n",
       "      <td>1</td>\n",
       "      <td>0</td>\n",
       "      <td>0</td>\n",
       "      <td>168.7</td>\n",
       "      <td>33.4</td>\n",
       "      <td>11.7</td>\n",
       "      <td>1</td>\n",
       "      <td>0</td>\n",
       "    </tr>\n",
       "    <tr>\n",
       "      <th>GC15A4343291374</th>\n",
       "      <td>67</td>\n",
       "      <td>0</td>\n",
       "      <td>0</td>\n",
       "      <td>0</td>\n",
       "      <td>0</td>\n",
       "      <td>0</td>\n",
       "      <td>0</td>\n",
       "      <td>163.0</td>\n",
       "      <td>35.3</td>\n",
       "      <td>13.3</td>\n",
       "      <td>2</td>\n",
       "      <td>0</td>\n",
       "    </tr>\n",
       "    <tr>\n",
       "      <th>GC15A4394818517</th>\n",
       "      <td>48</td>\n",
       "      <td>1</td>\n",
       "      <td>0</td>\n",
       "      <td>1</td>\n",
       "      <td>0</td>\n",
       "      <td>0</td>\n",
       "      <td>0</td>\n",
       "      <td>161.9</td>\n",
       "      <td>35.4</td>\n",
       "      <td>13.5</td>\n",
       "      <td>1</td>\n",
       "      <td>0</td>\n",
       "    </tr>\n",
       "    <tr>\n",
       "      <th>GC15A8349319917</th>\n",
       "      <td>43</td>\n",
       "      <td>1</td>\n",
       "      <td>0</td>\n",
       "      <td>0</td>\n",
       "      <td>0</td>\n",
       "      <td>0</td>\n",
       "      <td>0</td>\n",
       "      <td>162.4</td>\n",
       "      <td>36.4</td>\n",
       "      <td>13.8</td>\n",
       "      <td>1</td>\n",
       "      <td>0</td>\n",
       "    </tr>\n",
       "    <tr>\n",
       "      <th>GC15A6338225107</th>\n",
       "      <td>55</td>\n",
       "      <td>1</td>\n",
       "      <td>0</td>\n",
       "      <td>0</td>\n",
       "      <td>0</td>\n",
       "      <td>0</td>\n",
       "      <td>0</td>\n",
       "      <td>153.4</td>\n",
       "      <td>33.1</td>\n",
       "      <td>14.1</td>\n",
       "      <td>1</td>\n",
       "      <td>0</td>\n",
       "    </tr>\n",
       "  </tbody>\n",
       "</table>\n",
       "</div>"
      ],
      "text/plain": [
       "                 age  sex  smoking  exercise  alchol  hypertension  Diabetes  \\\n",
       "mask_id                                                                        \n",
       "GC15A1321697346   30    1        0         0       1             0         0   \n",
       "GC15A4343291374   67    0        0         0       0             0         0   \n",
       "GC15A4394818517   48    1        0         1       0             0         0   \n",
       "GC15A8349319917   43    1        0         0       0             0         0   \n",
       "GC15A6338225107   55    1        0         0       0             0         0   \n",
       "\n",
       "                 Height  Weight   BMI  Metscore  Metasyn  \n",
       "mask_id                                                   \n",
       "GC15A1321697346   168.7    33.4  11.7         1        0  \n",
       "GC15A4343291374   163.0    35.3  13.3         2        0  \n",
       "GC15A4394818517   161.9    35.4  13.5         1        0  \n",
       "GC15A8349319917   162.4    36.4  13.8         1        0  \n",
       "GC15A6338225107   153.4    33.1  14.1         1        0  "
      ]
     },
     "execution_count": 456,
     "metadata": {},
     "output_type": "execute_result"
    }
   ],
   "source": [
    "df.head(5)"
   ]
  },
  {
   "cell_type": "code",
   "execution_count": 457,
   "metadata": {
    "scrolled": true
   },
   "outputs": [
    {
     "data": {
      "text/plain": [
       "Index(['age', 'sex', 'smoking', 'exercise', 'alchol', 'hypertension',\n",
       "       'Diabetes', 'Height', 'Weight', 'BMI', 'Metscore', 'Metasyn'],\n",
       "      dtype='object')"
      ]
     },
     "execution_count": 457,
     "metadata": {},
     "output_type": "execute_result"
    }
   ],
   "source": [
    "df.columns"
   ]
  },
  {
   "cell_type": "code",
   "execution_count": 458,
   "metadata": {
    "collapsed": true
   },
   "outputs": [],
   "source": [
    "# data procesing 1\n",
    "# df.columns = df.iloc[0,:] # age sex, .. info will be used as column names \n",
    "# df = df.iloc[1:,] # first line from top is now removed"
   ]
  },
  {
   "cell_type": "code",
   "execution_count": 459,
   "metadata": {},
   "outputs": [
    {
     "data": {
      "text/plain": [
       "age               int64\n",
       "sex               int64\n",
       "smoking           int64\n",
       "exercise          int64\n",
       "alchol            int64\n",
       "hypertension      int64\n",
       "Diabetes          int64\n",
       "Height          float64\n",
       "Weight          float64\n",
       "BMI             float64\n",
       "Metscore          int64\n",
       "Metasyn           int64\n",
       "dtype: object"
      ]
     },
     "execution_count": 459,
     "metadata": {},
     "output_type": "execute_result"
    }
   ],
   "source": [
    "df.dtypes"
   ]
  },
  {
   "cell_type": "code",
   "execution_count": 460,
   "metadata": {},
   "outputs": [
    {
     "name": "stdout",
     "output_type": "stream",
     "text": [
      "(58380, 12)\n"
     ]
    }
   ],
   "source": [
    "print(df.shape)"
   ]
  },
  {
   "cell_type": "code",
   "execution_count": 461,
   "metadata": {
    "collapsed": true
   },
   "outputs": [],
   "source": [
    "n_unique =df.nunique() \n",
    "null_perc = df.isnull().sum()/df.shape[0]*100\n",
    "NA_perc = df.isnull().sum()/df.shape[0]*100\n",
    "\n",
    "df_info = pd.DataFrame({'n_unique': n_unique, 'null_perc': null_perc, 'NA_perc': NA_perc})\n",
    "df_info[\"dtyp\"]=\"\"\n",
    "df_info[\"iotyp\"]=\"\""
   ]
  },
  {
   "cell_type": "code",
   "execution_count": 462,
   "metadata": {
    "collapsed": true
   },
   "outputs": [],
   "source": [
    "for r_i in range(0, df_info.shape[0] ):\n",
    "    if df_info['n_unique'][r_i] >=10:\n",
    "        df_info['dtyp'][r_i] = 'numeric'\n",
    "    elif df_info['n_unique'][r_i] ==2: \n",
    "        df_info['dtyp'][r_i] = 'nominal'\n",
    "    else:\n",
    "        df_info['dtyp'][r_i] = 'ordinal'\n",
    "        \n",
    "    if (df_info.index[r_i]=='Metscore' or df_info.index[r_i]=='Metasyn'):\n",
    "        df_info[\"iotyp\"][r_i]='oup'\n",
    "    else:\n",
    "        df_info[\"iotyp\"][r_i]='inp'"
   ]
  },
  {
   "cell_type": "code",
   "execution_count": 463,
   "metadata": {},
   "outputs": [
    {
     "data": {
      "text/plain": [
       "Index(['age', 'sex', 'smoking', 'exercise', 'alchol', 'hypertension',\n",
       "       'Diabetes', 'Height', 'Weight', 'BMI', 'Metscore', 'Metasyn'],\n",
       "      dtype='object')"
      ]
     },
     "execution_count": 463,
     "metadata": {},
     "output_type": "execute_result"
    }
   ],
   "source": [
    "df.columns"
   ]
  },
  {
   "cell_type": "code",
   "execution_count": 464,
   "metadata": {},
   "outputs": [
    {
     "data": {
      "text/plain": [
       "0    49197\n",
       "1     9183\n",
       "Name: Metasyn, dtype: int64"
      ]
     },
     "execution_count": 464,
     "metadata": {},
     "output_type": "execute_result"
    }
   ],
   "source": [
    "df['Metasyn'].value_counts()"
   ]
  },
  {
   "cell_type": "markdown",
   "metadata": {},
   "source": [
    "# EDA: numeric predictors' histogram ############"
   ]
  },
  {
   "cell_type": "code",
   "execution_count": 465,
   "metadata": {},
   "outputs": [
    {
     "data": {
      "image/png": "[encoded data removed]",
      "text/plain": [
       "<Figure size 432x288 with 1 Axes>"
      ]
     },
     "metadata": {},
     "output_type": "display_data"
    },
    {
     "data": {
      "image/png": "[encoded data removed]",
      "text/plain": [
       "<Figure size 432x288 with 1 Axes>"
      ]
     },
     "metadata": {},
     "output_type": "display_data"
    },
    {
     "data": {
      "image/png": "[encoded data removed]",
      "text/plain": [
       "<Figure size 432x288 with 1 Axes>"
      ]
     },
     "metadata": {},
     "output_type": "display_data"
    },
    {
     "data": {
      "image/png": "[encoded data removed]",
      "text/plain": [
       "<Figure size 432x288 with 1 Axes>"
      ]
     },
     "metadata": {},
     "output_type": "display_data"
    },
    {
     "data": {
      "image/png": "[encoded data removed]",
      "text/plain": [
       "<Figure size 432x288 with 1 Axes>"
      ]
     },
     "metadata": {},
     "output_type": "display_data"
    },
    {
     "data": {
      "image/png": "[encoded data removed]",
      "text/plain": [
       "<Figure size 432x288 with 1 Axes>"
      ]
     },
     "metadata": {},
     "output_type": "display_data"
    },
    {
     "data": {
      "image/png": "[encoded data removed]",
      "text/plain": [
       "<Figure size 432x288 with 1 Axes>"
      ]
     },
     "metadata": {},
     "output_type": "display_data"
    },
    {
     "data": {
      "image/png": "[encoded data removed]",
      "text/plain": [
       "<Figure size 432x288 with 1 Axes>"
      ]
     },
     "metadata": {},
     "output_type": "display_data"
    }
   ],
   "source": [
    "for c_i in range(0, len(df.columns) ):\n",
    "    if (df_info.loc[df.columns[c_i], 'dtyp']==\"numeric\"):\n",
    "        # imp_avg = df[df.columns[c_i]].mean()\n",
    "        imp_avg = df.iloc[:, c_i].mean()\n",
    "        \n",
    "        temp = df.iloc[:,c_i].fillna(imp_avg)\n",
    "        \n",
    "        fig = plt.figure()\n",
    "        sns.distplot( temp , fit=norm)\n",
    "        plt.title('histogram(norm)')\n",
    "     \n",
    "        fig = plt.figure()\n",
    "        res = stats.probplot( temp, plot=plt)\n",
    "        plt.title('qq plot')\n",
    "        # "
   ]
  },
  {
   "cell_type": "markdown",
   "metadata": {},
   "source": [
    "# EDA: numeric predictors vs. Metscore, scatterplot ############"
   ]
  },
  {
   "cell_type": "code",
   "execution_count": 466,
   "metadata": {
    "collapsed": true
   },
   "outputs": [],
   "source": [
    "if 0:\n",
    "    for c_i in range(0, len(df.columns) ):\n",
    "        if (df_info.loc[df.columns[c_i], 'dtyp']==\"numeric\"):\n",
    "            imp_avg = df[df.columns[c_i]].mean()\n",
    "\n",
    "            fig = plt.figure()\n",
    "            plt.scatter( df[df.columns[c_i]].fillna(imp_avg), df['Metscore'].fillna(imp_avg) );\n",
    "            plt.xlabel(df.columns[c_i])\n",
    "            plt.ylabel('Metscore')\n"
   ]
  },
  {
   "cell_type": "markdown",
   "metadata": {},
   "source": [
    "# EDA: Metscore(x) vs. numeric predictors(y), boxplot"
   ]
  },
  {
   "cell_type": "code",
   "execution_count": 467,
   "metadata": {},
   "outputs": [
    {
     "data": {
      "image/png": "[encoded data removed]",
      "text/plain": [
       "<Figure size 576x432 with 1 Axes>"
      ]
     },
     "metadata": {},
     "output_type": "display_data"
    },
    {
     "data": {
      "image/png": "[encoded data removed]",
      "text/plain": [
       "<Figure size 576x432 with 1 Axes>"
      ]
     },
     "metadata": {},
     "output_type": "display_data"
    },
    {
     "data": {
      "image/png": "[encoded data removed]",
      "text/plain": [
       "<Figure size 576x432 with 1 Axes>"
      ]
     },
     "metadata": {},
     "output_type": "display_data"
    },
    {
     "data": {
      "image/png": "[encoded data removed]",
      "text/plain": [
       "<Figure size 576x432 with 1 Axes>"
      ]
     },
     "metadata": {},
     "output_type": "display_data"
    }
   ],
   "source": [
    "spear_cor_nume_Mets = []\n",
    "spear_cor_nume_Mets_p = []\n",
    "pred_ind = []\n",
    "\n",
    "for c_i in range(0, len(df.columns) ):\n",
    "    if (df_info.loc[df.columns[c_i], 'dtyp']==\"numeric\"):\n",
    "        imp_x = df['Metscore'].median() # since ordinal \n",
    "        imp_y = df.iloc[:, c_i].mean() # numeric's mean \n",
    "        \n",
    "        x = df['Metscore'].fillna(imp_x)\n",
    "        y = df.iloc[:,c_i].fillna(imp_y)\n",
    "        xy = pd.concat([x,y], axis=1)\n",
    "        \n",
    "        aa,bb= stats.spearmanr(x,y) \n",
    "        spear_cor_nume_Mets.append(aa)\n",
    "        spear_cor_nume_Mets_p.append(bb)\n",
    "        pred_ind.append( df.columns[c_i] )        \n",
    "        \n",
    "        odr =xy.groupby(['Metscore']).agg( {df.columns[c_i]:['median']} )\n",
    "        odr.columns = odr.columns.droplevel(0)\n",
    "        odr = odr.sort_values('median')\n",
    " \n",
    "        f, ax = plt.subplots(figsize=(8, 6))\n",
    "        fig = sns.boxplot(x=x, y=y, data=xy, order = odr.index)          "
   ]
  },
  {
   "cell_type": "code",
   "execution_count": 468,
   "metadata": {
    "collapsed": true
   },
   "outputs": [],
   "source": [
    "# test codes\n",
    "\n",
    "c_i = 0\n"
   ]
  },
  {
   "cell_type": "markdown",
   "metadata": {},
   "source": [
    "# EDA: Metscore(x) vs. categorical predictors(y), boxplot\n",
    "In [206]:\n"
   ]
  },
  {
   "cell_type": "code",
   "execution_count": 469,
   "metadata": {},
   "outputs": [
    {
     "data": {
      "image/png": "[encoded data removed]",
      "text/plain": [
       "<Figure size 576x432 with 1 Axes>"
      ]
     },
     "metadata": {},
     "output_type": "display_data"
    },
    {
     "data": {
      "image/png": "[encoded data removed]",
      "text/plain": [
       "<Figure size 576x432 with 1 Axes>"
      ]
     },
     "metadata": {},
     "output_type": "display_data"
    },
    {
     "data": {
      "image/png": "[encoded data removed]",
      "text/plain": [
       "<Figure size 576x432 with 1 Axes>"
      ]
     },
     "metadata": {},
     "output_type": "display_data"
    },
    {
     "data": {
      "image/png": "[encoded data removed]",
      "text/plain": [
       "<Figure size 576x432 with 1 Axes>"
      ]
     },
     "metadata": {},
     "output_type": "display_data"
    },
    {
     "data": {
      "image/png": "[encoded data removed]",
      "text/plain": [
       "<Figure size 576x432 with 1 Axes>"
      ]
     },
     "metadata": {},
     "output_type": "display_data"
    },
    {
     "data": {
      "image/png": "[encoded data removed]",
      "text/plain": [
       "<Figure size 576x432 with 1 Axes>"
      ]
     },
     "metadata": {},
     "output_type": "display_data"
    },
    {
     "data": {
      "image/png": "[encoded data removed]",
      "text/plain": [
       "<Figure size 576x432 with 1 Axes>"
      ]
     },
     "metadata": {},
     "output_type": "display_data"
    }
   ],
   "source": [
    "for c_i in range(0, len(df.columns) ):\n",
    "    if (df_info.loc[df.columns[c_i], 'dtyp']==\"ordinal\" or df_info.loc[df.columns[c_i], 'dtyp']==\"nominal\"):\n",
    "        if  (df.columns[c_i]!='Metscore'):\n",
    "            imp_x = df['Metscore'].median() # since ordinal \n",
    "            imp_y = df.iloc[:, c_i].mean() # numeric's mean \n",
    "\n",
    "            x = df['Metscore'].fillna(imp_x)\n",
    "            y = df.iloc[:,c_i].fillna(imp_y)\n",
    "            xy = pd.concat([x,y], axis=1)\n",
    "\n",
    "            odr =xy.groupby(['Metscore']).agg( {df.columns[c_i]:['median']} )\n",
    "            odr.columns = odr.columns.droplevel(0)\n",
    "            odr = odr.sort_values('median')\n",
    "\n",
    "            f, ax = plt.subplots(figsize=(8, 6))\n",
    "            fig = sns.boxplot(x=x, y=y, data=xy, order = odr.index)          "
   ]
  },
  {
   "cell_type": "code",
   "execution_count": null,
   "metadata": {
    "collapsed": true
   },
   "outputs": [],
   "source": []
  },
  {
   "cell_type": "code",
   "execution_count": null,
   "metadata": {
    "collapsed": true
   },
   "outputs": [],
   "source": []
  },
  {
   "cell_type": "code",
   "execution_count": null,
   "metadata": {
    "collapsed": true
   },
   "outputs": [],
   "source": []
  },
  {
   "cell_type": "code",
   "execution_count": null,
   "metadata": {
    "collapsed": true
   },
   "outputs": [],
   "source": []
  },
  {
   "cell_type": "code",
   "execution_count": null,
   "metadata": {
    "collapsed": true
   },
   "outputs": [],
   "source": []
  },
  {
   "cell_type": "code",
   "execution_count": null,
   "metadata": {
    "collapsed": true
   },
   "outputs": [],
   "source": []
  },
  {
   "cell_type": "code",
   "execution_count": null,
   "metadata": {
    "collapsed": true
   },
   "outputs": [],
   "source": []
  },
  {
   "cell_type": "markdown",
   "metadata": {},
   "source": [
    "# EDA: Numeric predictor's correlation matrix"
   ]
  },
  {
   "cell_type": "code",
   "execution_count": 470,
   "metadata": {
    "collapsed": true
   },
   "outputs": [],
   "source": [
    "# correlation matrix\n",
    "if 0:\n",
    "    corrmat = traindata[numeric_df.Name].corr(method='pearson')\n",
    "    f, ax = plt.subplots(figsize=(12, 9))\n",
    "    sns.heatmap(corrmat, vmax=1.0, square=True);"
   ]
  },
  {
   "cell_type": "code",
   "execution_count": 471,
   "metadata": {
    "collapsed": true
   },
   "outputs": [],
   "source": [
    "if 0: \n",
    "    corrmat"
   ]
  },
  {
   "cell_type": "code",
   "execution_count": 472,
   "metadata": {
    "collapsed": true
   },
   "outputs": [],
   "source": [
    "# corrmat.to_csv('./data/corrmat.csv')"
   ]
  },
  {
   "cell_type": "markdown",
   "metadata": {},
   "source": [
    "# Numeric predictors showing correlation (with SalePrice) larger than threshold selected"
   ]
  },
  {
   "cell_type": "code",
   "execution_count": 473,
   "metadata": {
    "collapsed": true,
    "scrolled": true
   },
   "outputs": [],
   "source": [
    "if 0:\n",
    "    cond= abs(corrmat.SalePrice) >=corr_thre\n",
    "\n",
    "    num_pred_thre_list= corrmat[cond].index.tolist()\n",
    "    print(num_pred_thre_list)"
   ]
  },
  {
   "cell_type": "code",
   "execution_count": 474,
   "metadata": {
    "collapsed": true
   },
   "outputs": [],
   "source": [
    "# traindata_nom_ord = traindata[nominal_df.iloc[:,0]]"
   ]
  },
  {
   "cell_type": "code",
   "execution_count": 475,
   "metadata": {
    "collapsed": true
   },
   "outputs": [],
   "source": [
    "# pd.crosstab( traindata_nom_ord.iloc[:,0],traindata_nom_ord.iloc[:,1] )"
   ]
  },
  {
   "cell_type": "code",
   "execution_count": 476,
   "metadata": {
    "collapsed": true
   },
   "outputs": [],
   "source": [
    "# traindata.to_csv(\"./data/traindata_smpl.csv\")  "
   ]
  },
  {
   "cell_type": "markdown",
   "metadata": {},
   "source": [
    "# Spearson correlation, Metscore(ord) vs. numeric predictors"
   ]
  },
  {
   "cell_type": "code",
   "execution_count": 477,
   "metadata": {},
   "outputs": [
    {
     "data": {
      "text/plain": [
       "Text(0, 0.5, 'Spearman corr with Metscore')"
      ]
     },
     "execution_count": 477,
     "metadata": {},
     "output_type": "execute_result"
    },
    {
     "data": {
      "image/png": "[encoded data removed]",
      "text/plain": [
       "<Figure size 864x432 with 1 Axes>"
      ]
     },
     "metadata": {},
     "output_type": "display_data"
    }
   ],
   "source": [
    "# correlation, nominal(coverted to ordinal) vs. saleprice\n",
    "\n",
    "df_corr = pd.DataFrame( list(zip(spear_cor_nume_Mets, spear_cor_nume_Mets_p)), index = pred_ind, columns =['corr', 'pvalue'])\n",
    "plt.figure(figsize=(12,6))\n",
    "df_corr['corr'].plot.bar(color='b')\n",
    "plt.xlabel('numeric coordinators')\n",
    "plt.ylabel('Spearman corr with Metscore')"
   ]
  },
  {
   "cell_type": "markdown",
   "metadata": {},
   "source": [
    "# Imputation on test(shortened) data. Imputation on training(shortened) data is not needed. "
   ]
  },
  {
   "cell_type": "code",
   "execution_count": 478,
   "metadata": {
    "collapsed": true
   },
   "outputs": [],
   "source": [
    "# from fancyimpute import KNN"
   ]
  },
  {
   "cell_type": "code",
   "execution_count": 479,
   "metadata": {
    "collapsed": true
   },
   "outputs": [],
   "source": [
    "if 0:\n",
    "    if 'MSZoning' in testdata_sh.columns:\n",
    "        imp_med = testdata_sh.MSZoning.median()\n",
    "        testdata_sh.MSZoning = testdata_sh.MSZoning.fillna(imp_med)\n",
    "\n",
    "    if 'Exterior1st' in testdata_sh.columns:\n",
    "        imp_med = testdata_sh.Exterior1st.median()\n",
    "        testdata_sh.Exterior1st = testdata_sh.Exterior1st.fillna(imp_med)\n",
    "\n",
    "    if 'Exterior2nd' in testdata_sh.columns:    \n",
    "        imp_med = testdata_sh.Exterior2nd.median()\n",
    "        testdata_sh.Exterior2nd = testdata_sh.Exterior2nd.fillna(imp_med)\n",
    "\n",
    "    if 'GarageYrBlt' in testdata_sh.columns:     \n",
    "        imp_mean = testdata_sh.GarageYrBlt.mean()\n",
    "        # imp_mean_knn = KNN(k=5).fit_transform(testdata_sh.GarageYrBlt) \n",
    "        testdata_sh.GarageYrBlt = testdata_sh.GarageYrBlt.fillna(imp_mean)\n",
    "\n",
    "    if 'TotalBsmtSF' in testdata_sh.columns:     \n",
    "        imp_mean = testdata_sh.TotalBsmtSF.mean()\n",
    "        # imp_mean_knn = KNN(k=5).fit_transform(testdata_sh.TotalBsmtSF) \n",
    "        testdata_sh.TotalBsmtSF = testdata_sh.TotalBsmtSF.fillna(imp_mean)\n",
    "\n",
    "    if 'GarageCars' in testdata_sh.columns:     \n",
    "        imp_mean = testdata_sh.GarageCars.mean()\n",
    "        # imp_mean_knn = KNN(k=5).fit_transform(testdata_sh.GarageCars) \n",
    "        testdata_sh.GarageCars = testdata_sh.GarageCars.fillna(imp_mean)\n",
    "\n",
    "    if 'GarageArea' in testdata_sh.columns:     \n",
    "        imp_mean = testdata_sh.GarageArea.mean()\n",
    "        # imp_mean_knn = KNN(k=5).fit_transform(testdata_sh.GarageArea) \n",
    "        testdata_sh.GarageArea = testdata_sh.GarageArea.fillna(imp_mean)\n",
    "\n",
    "    if 'MasVnrArea' in testdata_sh.columns:     \n",
    "        imp_mean = testdata_sh.MasVnrArea.mean()\n",
    "        # imp_mean_knn = KNN(k=5).fit_transform(testdata_sh.MasVnrArea) \n",
    "        testdata_sh.MasVnrArea = testdata_sh.MasVnrArea.fillna(imp_mean)"
   ]
  },
  {
   "cell_type": "markdown",
   "metadata": {},
   "source": [
    "# Outlier removed"
   ]
  },
  {
   "cell_type": "code",
   "execution_count": 480,
   "metadata": {
    "collapsed": true
   },
   "outputs": [],
   "source": [
    "if 0:\n",
    "    for cname in traindata_sh.columns:\n",
    "        if (cname in numeric_df.values) and (cname != 'SalePrice'):\n",
    "            traindata_sh = traindata_sh[np.abs(traindata_sh[cname]-traindata_sh[cname].mean()) <= (OutlierFactor*traindata_sh[cname].std())]"
   ]
  },
  {
   "cell_type": "code",
   "execution_count": 481,
   "metadata": {
    "collapsed": true
   },
   "outputs": [],
   "source": [
    " if 0:\n",
    "    n_unique =testdata_sh.nunique() \n",
    "    null_perc = testdata_sh.isnull().sum()/testdata_sh.shape[0]*100\n",
    "    NA_perc = testdata_sh.isnull().sum()/testdata_sh.shape[0]*100\n",
    "\n",
    "    testdata_sh_analysis = pd.DataFrame({'n_unique': n_unique, 'null_perc': null_perc, 'NA_perc': NA_perc})\n",
    "\n",
    "    testdata_sh_analysis[NA_perc>0]\n",
    "\n",
    "    x1 = traindata_sh[comb_list] # excluded SalePrice\n",
    "    y1 = traindata_sh.SalePrice  \n",
    "\n",
    "    x2= testdata_sh[comb_list] # we do not have SalePrice of the test data "
   ]
  },
  {
   "cell_type": "markdown",
   "metadata": {},
   "source": [
    "# Perform data standardization on numeric predictors"
   ]
  },
  {
   "cell_type": "code",
   "execution_count": 482,
   "metadata": {
    "collapsed": true
   },
   "outputs": [],
   "source": [
    "if (DoNormalization=='Y' or DoNormalization=='y'):\n",
    "    from sklearn.preprocessing import StandardScaler, MinMaxScaler, MaxAbsScaler \n",
    "    import statsmodels.api as sm \n",
    "\n",
    "   \n",
    "    if scaleType not in ['standard', 'minmax', 'maxabs']: \n",
    "        raise ValueError('%s is not a valid choice' %(scaleType))\n",
    "    if scaleType == 'standard':\n",
    "        scaler = StandardScaler()\n",
    "    elif scaleType == 'minmax':\n",
    "        scaler = MinMaxScaler()\n",
    "    elif scaleType == 'maxabs':\n",
    "        scaler = MaxAbsScaler()\n",
    "        \n",
    "    setA = set( df_info.loc[df_info['iotyp']=='inp'].index ) \n",
    "    setB = set( df_info.loc[df_info['dtyp']=='numeric'].index )\n",
    "    nume_list = list( setA & setB)\n",
    "    \n",
    "    # part of x1 extracted for normalization\n",
    "    scaler.fit( df[nume_list] ) # only numerical predictors, except for SalePrice, is input\n",
    "                        # Fix the scale model using the train set\n",
    "    \n",
    "    df[nume_list] = scaler.transform(df[nume_list])     \n",
    "# end of if (DoNormalization=='Y' or DoNormalization=='y'):    \n",
    "    \n",
    "\n",
    "# df subselected. Also y1/y2 created by subselection \n",
    "if ModelNum == 1:   # inputA~score\n",
    "    print('codes needed, 1000')\n",
    "elif ModelNum == 2: # inputB~score\n",
    "    print('codes needed, 1001')\n",
    "elif ModelNum == 3: # inputC~score\n",
    "    print('codes needed, 1002')\n",
    "elif ModelNum == 4: # inputA~Msyndrome, select and deselect\n",
    "    x = df[['age', 'sex', 'smoking', 'alchol', 'exercise', 'BMI']]\n",
    "elif ModelNum == 5: # inputB~Msyndrome, select and deselect\n",
    "    x = df[['age', 'sex', 'smoking', 'alchol', 'exercise', 'Height', 'Weight']]\n",
    "elif ModelNum == 6: # inputC~Msyndrome, select and deselct\n",
    "    x = df[['age', 'sex', 'smoking', 'alchol', 'exercise', 'BMI', 'Height', 'Weight']]\n",
    "else:\n",
    "    # At least, Metscore and Metashn sh be further removed\n",
    "    # Note) drop is mutating. Thus, copy() is needed. \n",
    "    x = df.copy()\n",
    "    x.drop(['Metscore', 'Metasyn'], axis=1, inplace=True)\n",
    "    \n",
    "y1 = df['Metscore']\n",
    "y2 = df['Metasyn']\n",
    "y  = df[['Metscore', 'Metasyn']] # common \n",
    "\n"
   ]
  },
  {
   "cell_type": "code",
   "execution_count": 483,
   "metadata": {
    "collapsed": true
   },
   "outputs": [],
   "source": [
    "# traindata_sh.to_csv('./data/traindata_smpl_sh_std.csv')"
   ]
  },
  {
   "cell_type": "code",
   "execution_count": 484,
   "metadata": {
    "collapsed": true
   },
   "outputs": [],
   "source": [
    "# traindata_smpl_std.to_csv('./data/traindata_smpl_std.csv')"
   ]
  },
  {
   "cell_type": "markdown",
   "metadata": {},
   "source": [
    "# MLR (Multiple Linear Regression)"
   ]
  },
  {
   "cell_type": "code",
   "execution_count": 485,
   "metadata": {
    "scrolled": true
   },
   "outputs": [],
   "source": [
    "if Do_ML==1:\n",
    "    from sklearn import linear_model\n",
    "    ols = linear_model.LinearRegression()\n",
    "    ols.fit(x1, y1)\n",
    "    print(\"beta_1, beta_2: \" + str(np.round(ols.coef_, 3)))\n",
    "    print(\"beta_0: \" + str(np.round(ols.intercept_, 3)))\n",
    "    print(\"RSS: %.2f\" % np.sum((ols.predict(x1) - y1) ** 2))\n",
    "    print(\"R^2: %.5f\" % ols.score(x1, y1))\n",
    "\n",
    "    comp_metric_tr = np.sqrt(   np.mean(  (y1 - ols.predict(x1))**2  )   )\n",
    "    print(comp_metric_tr)"
   ]
  },
  {
   "cell_type": "markdown",
   "metadata": {},
   "source": [
    "# MLR (Multiple Linear Regression with CV"
   ]
  },
  {
   "cell_type": "code",
   "execution_count": 486,
   "metadata": {
    "collapsed": true
   },
   "outputs": [],
   "source": [
    "if Do_ML==1:\n",
    "    # import sklearn.cross_validation as cv\n",
    "    import sklearn.model_selection as ms\n",
    "\n",
    "    # import sklearn.cross_validation as cv\n",
    "\n",
    "    # cv_k3s = cv.StratifiedKFold(y1, n_folds=N_folds)\n",
    "    ms_k3 = ms.KFold(n_splits=N_folds)\n",
    "    # cv_k3 = cv.KFold(len(y1), n_folds=N_folds)\n",
    "\n",
    "    comp_metric_tr = []\n",
    "    comp_metric_val = []\n",
    "    n_tr = []\n",
    "    n_val = []\n",
    "    RSS_tr = []\n",
    "    RSS_val = []\n",
    "    R2_tr = []\n",
    "    R2_val = []\n",
    "\n",
    "    ols = linear_model.LinearRegression()\n",
    "\n",
    "    # for train_idx, val_idx in cv_k3:\n",
    "    for train_idx, val_idx in ms_k3.split(X=x1, y=y1):\n",
    "        ols.fit( x1.iloc[train_idx,], y1.iloc[train_idx] )\n",
    "        n_tr.append( len(train_idx) )\n",
    "        n_val.append( len(val_idx) )\n",
    "        comp_metric_tr.append(np.sqrt(   np.mean(  (y1.iloc[train_idx] - ols.predict(x1.iloc[train_idx,]))**2  )   ))\n",
    "        comp_metric_val.append(np.sqrt(   np.mean(  (y1.iloc[val_idx] - ols.predict(x1.iloc[val_idx,]))**2  )   ))\n",
    "        RSS_tr.append(   np.sum((ols.predict(x1.iloc[train_idx,]) - y1.iloc[train_idx]) ** 2) )\n",
    "        RSS_val.append(   np.sum((ols.predict(x1.iloc[val_idx,]) - y1.iloc[val_idx]) ** 2) )\n",
    "        R2_tr.append( ols.score(x1.iloc[train_idx,], y1.iloc[train_idx])) \n",
    "        R2_val.append( ols.score(x1.iloc[val_idx,], y1.iloc[val_idx])) \n",
    "\n",
    "    comp_metric_tr_all = np.sum(comp_metric_tr*np.sqrt(n_tr)/sum(np.sqrt(n_tr)))\n",
    "    print(comp_metric_tr_all)\n",
    "\n",
    "    comp_metric_val_all = np.sum(comp_metric_val*np.sqrt(n_val)/sum(np.sqrt(n_val)))\n",
    "    print(comp_metric_val_all)    "
   ]
  },
  {
   "cell_type": "markdown",
   "metadata": {},
   "source": [
    "# MLR: Find significance of slope coefficients after MLR"
   ]
  },
  {
   "cell_type": "code",
   "execution_count": 487,
   "metadata": {
    "collapsed": true
   },
   "outputs": [],
   "source": [
    "if Do_ML==1:\n",
    "    x1_add_const = sm.add_constant(x1)\n",
    "    ols = sm.OLS(y1, x1_add_const)\n",
    "    ans = ols.fit()\n",
    "    print(ans.summary())"
   ]
  },
  {
   "cell_type": "code",
   "execution_count": 488,
   "metadata": {
    "collapsed": true
   },
   "outputs": [],
   "source": [
    "# test codes\n",
    "\n",
    "#np.isnan(traindata.Alley[17])\n",
    "#pd.isna(traindata.MasVnrType[11])\n",
    "#pd.isna(traindata.MasVnrType[244])\n",
    "#traindata.MasVnrType[11]\n",
    "#traindata.MasVnrType[11]==\"None\"\n",
    "#isnone( traindata.MasVnrType[0] )"
   ]
  },
  {
   "cell_type": "code",
   "execution_count": 489,
   "metadata": {
    "collapsed": true
   },
   "outputs": [],
   "source": [
    "# x1_add_const = sm.add_constant(x1)\n",
    "# ols = sm.OLS(y1, x1_add_const)\n",
    "# ans = ols.fit()\n",
    "# print(ans.summary())"
   ]
  },
  {
   "cell_type": "markdown",
   "metadata": {},
   "source": [
    "# Import and definition for linear regressions"
   ]
  },
  {
   "cell_type": "code",
   "execution_count": 490,
   "metadata": {
    "collapsed": true
   },
   "outputs": [],
   "source": [
    "from sklearn.linear_model import Ridge, Lasso, ElasticNet, LinearRegression\n",
    "ridge = Ridge()\n",
    "lasso = Lasso()\n",
    "net   = ElasticNet()"
   ]
  },
  {
   "cell_type": "markdown",
   "metadata": {},
   "source": [
    "# Ridge Regression"
   ]
  },
  {
   "cell_type": "code",
   "execution_count": 491,
   "metadata": {
    "collapsed": true
   },
   "outputs": [],
   "source": [
    "if 0:\n",
    "    coefs = []\n",
    "    intercepts = []\n",
    "    R2  = []\n",
    "    alphaRange = np.linspace(1e-3,100.001,100)\n",
    "\n",
    "    comp_metric_tr = []\n",
    "    for alpha in alphaRange:\n",
    "        ridge.set_params(alpha=alpha, normalize=False)\n",
    "        ridge.fit(x1, y1)\n",
    "        intercepts.append(ridge.intercept_)\n",
    "        coefs.append(ridge.coef_)\n",
    "        R2.append(ridge.score(x1, y1))  \n",
    "        comp_metric_tr.append( np.sqrt(np.mean(  (y1 - ridge.predict(x1))**2)) )"
   ]
  },
  {
   "cell_type": "code",
   "execution_count": 492,
   "metadata": {
    "collapsed": true,
    "scrolled": true
   },
   "outputs": [],
   "source": [
    "if 0:\n",
    "    plt.figure(figsize=(9,4))\n",
    "    plt.plot(alphaRange, intercepts)\n",
    "    plt.title('Change of Ridge model''s Intercept with varying Alpha')"
   ]
  },
  {
   "cell_type": "code",
   "execution_count": 493,
   "metadata": {
    "collapsed": true
   },
   "outputs": [],
   "source": [
    "if 0:\n",
    "    coefs = pd.DataFrame(np.array(coefs), columns=x1.columns)\n",
    "\n",
    "    plt.figure(figsize=(9,7))\n",
    "    plt.xlim([min(alphaRange ), max(alphaRange )*1.3  ])\n",
    "    for name in coefs.columns:\n",
    "        plt.plot(alphaRange, coefs[name], label=name)\n",
    "\n",
    "    plt.legend(loc=1)    \n",
    "    plt.title('Change of Ridge model''s Coeff Slopes with varying Alpha')"
   ]
  },
  {
   "cell_type": "code",
   "execution_count": 494,
   "metadata": {
    "collapsed": true,
    "scrolled": true
   },
   "outputs": [],
   "source": [
    "if 0:\n",
    "    plt.figure(figsize=(9,4))\n",
    "    plt.plot(alphaRange, R2)\n",
    "    plt.title(r'Change of $R^2$ of Ridge model with varying alpha')"
   ]
  },
  {
   "cell_type": "code",
   "execution_count": 495,
   "metadata": {
    "collapsed": true,
    "scrolled": true
   },
   "outputs": [],
   "source": [
    "if 0:\n",
    "    plt.figure(figsize=(10,5))\n",
    "    plt.plot(alphaRange, comp_metric_tr)\n",
    "    plt.title('Change of comp_metric(RMSE of SalePrice) of Ridge model with varying alpha')\n",
    "\n",
    "    ind = np.argmin(comp_metric_tr)\n",
    "\n",
    "    print(\"min of training set RMSE of SalePrice occurs at alpha=%.2f\" % alphaRange[ind]  )"
   ]
  },
  {
   "cell_type": "markdown",
   "metadata": {},
   "source": [
    "# Ridge with CV"
   ]
  },
  {
   "cell_type": "code",
   "execution_count": 496,
   "metadata": {
    "collapsed": true
   },
   "outputs": [],
   "source": [
    "if 0:  \n",
    "    # import sklearn.cross_validation as cv\n",
    "    import sklearn.model_selection as ms\n",
    "    # import sklearn.cross_validation as cv\n",
    "\n",
    "    # cv_k3s = cv.StratifiedKFold(y1, n_folds=N_folds)\n",
    "    ms_k3 = ms.KFold(n_splits=N_folds)\n",
    "    # cv_k3 = cv.KFold( len(y1), n_folds=N_folds)\n",
    "\n",
    "    alphaRange = np.linspace(1e-3,50.001,101) # 1E-3 ~ 5000, 100 values \n",
    "    alphasize = len(alphaRange)\n",
    "\n",
    "    comp_metric_tr = np.zeros((alphasize, N_folds))\n",
    "    comp_metric_val = np.zeros((alphasize, N_folds))\n",
    "\n",
    "    RSS_tr = np.zeros((alphasize, N_folds))\n",
    "    RSS_val = np.zeros((alphasize, N_folds))\n",
    "    R2_tr = np.zeros((alphasize, N_folds))\n",
    "    R2_val = np.zeros((alphasize, N_folds))\n",
    "    # coefs_tr=[]\n",
    "    # cpefs_val = []\n",
    "    # intercepts_tr=[]\n",
    "    # intercepts_val = []\n",
    "\n",
    "\n",
    "    n_tr = np.zeros((alphasize, N_folds))\n",
    "    n_val = np.zeros((alphasize, N_folds))\n",
    "\n",
    "\n",
    "    # for train_idx, val_idx in cv_k3s:\n",
    "    for alphaIdx, alpha in enumerate(alphaRange):\n",
    "        ridge.set_params(alpha=alpha, normalize=False)\n",
    "        fold_i = -1\n",
    "\n",
    "        # for train_idx, val_idx in cv_k3:\n",
    "        for train_idx, val_idx in ms_k3.split(X=x1, y=y1):\n",
    "            fold_i = fold_i+1 # start from 0 \n",
    "            ridge.fit( x1.iloc[train_idx,], y1.iloc[train_idx] )\n",
    "            # intercepts_tr.append(ridge.intercept_)\n",
    "            # coefs.append(ridge.coef_)\n",
    "\n",
    "            n_tr[alphaIdx,fold_i]=len(train_idx) \n",
    "            n_val[alphaIdx,fold_i]=len(val_idx) \n",
    "\n",
    "            comp_metric_tr[alphaIdx,fold_i] = \\\n",
    "            np.sqrt(   np.mean(  (y1.iloc[train_idx] - \\\n",
    "                                  ridge.predict(x1.iloc[train_idx,]))**2  )   )\n",
    "\n",
    "            comp_metric_val[alphaIdx,fold_i] = \\\n",
    "            np.sqrt(   np.mean(  (y1.iloc[val_idx] - \\\n",
    "                                  ridge.predict(x1.iloc[val_idx,]))**2  )   )\n",
    "\n",
    "            RSS_tr[alphaIdx,fold_i]=\\\n",
    "            np.sum((ridge.predict(x1.iloc[train_idx,]) - y1.iloc[train_idx]) ** 2) \n",
    "            RSS_val[alphaIdx,fold_i]=\\\n",
    "            np.sum((ridge.predict(x1.iloc[val_idx,]) - y1.iloc[val_idx]) ** 2) \n",
    "            R2_tr[alphaIdx,fold_i]=\\\n",
    "            ridge.score(x1.iloc[train_idx,], y1.iloc[train_idx])\n",
    "            R2_val[alphaIdx,fold_i]=\\\n",
    "            ridge.score(x1.iloc[val_idx,], y1.iloc[val_idx])\n"
   ]
  },
  {
   "cell_type": "code",
   "execution_count": 497,
   "metadata": {
    "collapsed": true
   },
   "outputs": [],
   "source": [
    "if 0: \n",
    "    comp_metric_tr_all = np.sum( comp_metric_tr*np.sqrt(n_tr), 1)/np.sum(np.sqrt(n_tr), axis=1)\n",
    "    comp_metric_val_all = np.sum( comp_metric_val*np.sqrt(n_val), 1)/np.sum(np.sqrt(n_val), axis=1)"
   ]
  },
  {
   "cell_type": "code",
   "execution_count": 498,
   "metadata": {
    "collapsed": true,
    "scrolled": true
   },
   "outputs": [],
   "source": [
    "if 0: \n",
    "    plt.plot(alphaRange, comp_metric_tr_all, label=r'train set RMSE of Saleprice')\n",
    "    plt.plot(alphaRange, comp_metric_val_all, label=r'validation set RMSE of Saleprice')\n",
    "    plt.legend(loc=4)\n",
    "    plt.xlabel(\"alpha\")\n",
    "    plt.ylabel(\"RMSE of SalePrice\")\n",
    "\n",
    "    ind = np.argmin(comp_metric_tr_all)\n",
    "    print(\"min of training set RMSE of SalePrice occurs at alpha=%.2f\" % alphaRange[ind]  )\n",
    "    ind = np.argmin(comp_metric_val_all)\n",
    "    print(\"min of validation set RMSE of SalePrice occurs at alpha=%.2f\" % alphaRange[ind]  )\n",
    "\n",
    "    ind = np.argmin( comp_metric_val_all-comp_metric_tr_all )\n",
    "    print(\"min of validation set RMSE minus training set RMSE occurs at alpha=%.2f\" % alphaRange[ind]  )"
   ]
  },
  {
   "cell_type": "code",
   "execution_count": 499,
   "metadata": {
    "collapsed": true,
    "scrolled": true
   },
   "outputs": [],
   "source": [
    "if 0: \n",
    "    print( comp_metric_tr_all[np.argmin(comp_metric_val_all)] )\n",
    "    print( min(comp_metric_val_all) )\n",
    "    print( alphaRange[np.argmin(comp_metric_val_all)] )"
   ]
  },
  {
   "cell_type": "code",
   "execution_count": 500,
   "metadata": {
    "collapsed": true
   },
   "outputs": [],
   "source": [
    "if 0: \n",
    "    ridge_best = Ridge()\n",
    "    ridge_best.set_params(alpha=alphaRange[np.argmin(comp_metric_val_all)], normalize=False)\n",
    "    ridge_best.fit( x1, y1 )"
   ]
  },
  {
   "cell_type": "code",
   "execution_count": 501,
   "metadata": {
    "collapsed": true
   },
   "outputs": [],
   "source": [
    "if 0: \n",
    "    y2_pred = np.exp( ridge_best.predict(x2) )\n",
    "    temp = testdata_sh.copy()\n",
    "    temp['SalePrice'] = y2_pred\n",
    "    y2hat = temp[['SalePrice']]\n",
    "    y2hat.to_csv('./data/SWLee_Ameshouse_Price_ridgebest.csv')"
   ]
  },
  {
   "cell_type": "markdown",
   "metadata": {},
   "source": [
    "# Lasso regression"
   ]
  },
  {
   "cell_type": "code",
   "execution_count": 502,
   "metadata": {
    "collapsed": true
   },
   "outputs": [],
   "source": [
    "if 0: \n",
    "    coefs = []\n",
    "    intercepts = []\n",
    "    R2  = []\n",
    "    comp_metric_tr = []\n",
    "    alphaRange = np.linspace(1e-3,100.001,100)\n",
    "    for alpha in alphaRange:\n",
    "        lasso.set_params(alpha=alpha, normalize = False)  \n",
    "        lasso.fit(x1, y1)\n",
    "        intercepts.append(lasso.intercept_)\n",
    "        coefs.append(lasso.coef_)\n",
    "        R2.append(lasso.score(x1, y1))  \n",
    "        comp_metric_tr.append( np.sqrt(np.mean(  (y1 - lasso.predict(x1))**2)) )\n",
    "\n",
    "    "
   ]
  },
  {
   "cell_type": "code",
   "execution_count": 503,
   "metadata": {
    "collapsed": true,
    "scrolled": false
   },
   "outputs": [],
   "source": [
    "if 0:     \n",
    "    plt.figure(figsize=(10,5))\n",
    "    plt.plot(alphaRange, intercepts)\n",
    "    plt.title('Change of Lasso Intercept Varying Alpha')"
   ]
  },
  {
   "cell_type": "code",
   "execution_count": 504,
   "metadata": {
    "collapsed": true
   },
   "outputs": [],
   "source": [
    "if 0:\n",
    "    coefs = pd.DataFrame(np.array(coefs), columns=x1.columns)\n",
    "    plt.figure(figsize=(10,8))\n",
    "    plt.xlim([min(alphaRange ), max(alphaRange )*1.3  ])\n",
    "\n",
    "    for name in coefs.columns:\n",
    "        plt.plot(alphaRange, coefs[name], label=name)\n",
    "    plt.legend(loc=1)    \n",
    "    plt.title('Change of Lasso Slopes with Varying Alpha')"
   ]
  },
  {
   "cell_type": "code",
   "execution_count": 505,
   "metadata": {
    "collapsed": true
   },
   "outputs": [],
   "source": [
    "if 0:     \n",
    "    plt.figure(figsize=(10,5))\n",
    "    plt.plot(alphaRange, comp_metric_tr)\n",
    "    plt.title('Change of comp_metric(RMSE of SalePrice) of Lasso model with varying alpha')\n",
    "\n",
    "    ind = np.argmin(comp_metric_tr)\n",
    "    print(\"min of training set RMSE of SalePrice occurs at alpha=%.2f\" % alphaRange[ind]  )"
   ]
  },
  {
   "cell_type": "markdown",
   "metadata": {
    "collapsed": true
   },
   "source": [
    "# Lasso Regression with CV"
   ]
  },
  {
   "cell_type": "code",
   "execution_count": 506,
   "metadata": {
    "collapsed": true
   },
   "outputs": [],
   "source": [
    "if 0:     \n",
    "    import sklearn.model_selection as ms\n",
    "\n",
    "    ms_k3 = ms.KFold(n_splits=N_folds)\n",
    "\n",
    "    alphaRange = np.linspace(1e-4,10.0001,1001)\n",
    "    alphasize = len(alphaRange)\n",
    "\n",
    "    comp_metric_tr = np.zeros((alphasize, N_folds))\n",
    "    comp_metric_val = np.zeros((alphasize, N_folds))\n",
    "\n",
    "    RSS_tr = np.zeros((alphasize, N_folds))\n",
    "    RSS_val = np.zeros((alphasize, N_folds))\n",
    "    R2_tr = np.zeros((alphasize, N_folds))\n",
    "    R2_val = np.zeros((alphasize, N_folds))\n",
    "\n",
    "    n_tr = np.zeros((alphasize, N_folds))\n",
    "    n_val = np.zeros((alphasize, N_folds))\n",
    "\n",
    "\n",
    "    # for train_idx, val_idx in cv_k3s:\n",
    "    for alphaIdx, alpha in enumerate(alphaRange):\n",
    "        lasso.set_params(alpha=alpha, normalize = False)  \n",
    "\n",
    "        fold_i = -1\n",
    "\n",
    "        # for train_idx, val_idx in cv_k3:\n",
    "        for train_idx, val_idx in ms_k3.split(X=x1, y=y1):\n",
    "            fold_i = fold_i+1 # start from 0 \n",
    "            lasso.fit( x1.iloc[train_idx,], y1.iloc[train_idx] )\n",
    "\n",
    "            n_tr[alphaIdx,fold_i]=len(train_idx) \n",
    "            n_val[alphaIdx,fold_i]=len(val_idx) \n",
    "\n",
    "            comp_metric_tr[alphaIdx,fold_i] = \\\n",
    "            np.sqrt(   np.mean(  (y1.iloc[train_idx] - \\\n",
    "                                  lasso.predict(x1.iloc[train_idx,]))**2  )   )\n",
    "\n",
    "            comp_metric_val[alphaIdx,fold_i] = \\\n",
    "            np.sqrt(   np.mean(  (y1.iloc[val_idx] - \\\n",
    "                                  lasso.predict(x1.iloc[val_idx,]))**2  )   )\n",
    "\n",
    "            RSS_tr[alphaIdx,fold_i]=\\\n",
    "            np.sum((lasso.predict(x1.iloc[train_idx,]) - y1.iloc[train_idx]) ** 2) \n",
    "            RSS_val[alphaIdx,fold_i]=\\\n",
    "            np.sum((lasso.predict(x1.iloc[val_idx,]) - y1.iloc[val_idx]) ** 2) \n",
    "            R2_tr[alphaIdx,fold_i]=\\\n",
    "            lasso.score(x1.iloc[train_idx,], y1.iloc[train_idx])\n",
    "            R2_val[alphaIdx,fold_i]=\\\n",
    "            lasso.score(x1.iloc[val_idx,], y1.iloc[val_idx])\n"
   ]
  },
  {
   "cell_type": "code",
   "execution_count": 507,
   "metadata": {
    "collapsed": true
   },
   "outputs": [],
   "source": [
    "if 0:     \n",
    "    comp_metric_tr_all = np.sum( comp_metric_tr*np.sqrt(n_tr), 1)/np.sum(np.sqrt(n_tr), axis=1)\n",
    "    comp_metric_val_all = np.sum( comp_metric_val*np.sqrt(n_val), 1)/np.sum(np.sqrt(n_val), axis=1)\n",
    "\n",
    "\n",
    "    plt.plot(alphaRange, comp_metric_tr_all, label=r'train set RMSE of Saleprice')\n",
    "    plt.plot(alphaRange, comp_metric_val_all, label=r'validation set RMSE of Saleprice')\n",
    "    plt.legend(loc=4)\n",
    "    plt.xlabel(\"alpha\")\n",
    "    plt.ylabel(\"RMSE of SalePrice\")"
   ]
  },
  {
   "cell_type": "code",
   "execution_count": 508,
   "metadata": {
    "collapsed": true
   },
   "outputs": [],
   "source": [
    "if 0: \n",
    "    ind = np.argmin(comp_metric_tr_all)\n",
    "    print(\"min of training set RMSE of SalePrice occurs at alpha=%.2f\" % alphaRange[ind]  )\n",
    "    ind = np.argmin(comp_metric_val_all)\n",
    "    print(\"min of validation set RMSE of SalePrice occurs at alpha=%.2f\" % alphaRange[ind]  )\n",
    "\n",
    "    ind = np.argmin( comp_metric_val_all-comp_metric_tr_all )\n",
    "    print(\"min of validation set RMSE minus training set RMSE occurs at alpha=%.2f\" % alphaRange[ind]  )\n"
   ]
  },
  {
   "cell_type": "code",
   "execution_count": 509,
   "metadata": {
    "collapsed": true
   },
   "outputs": [],
   "source": [
    "if 0: \n",
    "    print( comp_metric_tr_all[np.argmin(comp_metric_val_all)] )\n",
    "    print( min(comp_metric_val_all) )\n",
    "    print( alphaRange[np.argmin(comp_metric_val_all)] )"
   ]
  },
  {
   "cell_type": "markdown",
   "metadata": {},
   "source": [
    "# ElasticNet Regression"
   ]
  },
  {
   "cell_type": "code",
   "execution_count": 510,
   "metadata": {
    "collapsed": true
   },
   "outputs": [],
   "source": [
    "if 0:     \n",
    "    import sklearn.model_selection as ms\n",
    "    ms_k3 = ms.KFold(n_splits=N_folds)\n",
    "\n",
    "    alphaSize  = 40\n",
    "    rhoSize    = 30\n",
    "    alphaRange = np.linspace(1e-2, 1000, alphaSize)\n",
    "    rhoRange   = np.linspace(0.01, 10, rhoSize)\n",
    "    trainR2    = np.zeros((alphaSize, rhoSize))\n",
    "    # testR2     = np.zeros((alphaSize, rhoSize))\n",
    "    intercepts = np.zeros((alphaSize, rhoSize))\n",
    "    coefs      = np.zeros((alphaSize, rhoSize, len( comb_list ) ))\n",
    "    comp_metric_tr = np.zeros((alphaSize, rhoSize))\n",
    "\n",
    "    net.set_params(normalize=False)\n",
    "\n",
    "    for alphaIdx, alpha in enumerate(alphaRange):\n",
    "        for rhoIdx, rho in enumerate(rhoRange):\n",
    "            net.set_params(alpha=alpha, l1_ratio=rho)\n",
    "            net.fit(x1, y1)\n",
    "            trainR2[alphaIdx, rhoIdx] = net.score(x1, y1)\n",
    "            # testR2[alphaIdx, rhoIdx]  = net.score(testX, testY)\n",
    "            intercepts[alphaIdx, rhoIdx] = net.intercept_\n",
    "            coefs[alphaIdx, rhoIdx, :] = net.coef_\n",
    "            comp_metric_tr[alphaIdx, rhoIdx] = \\\n",
    "            np.sqrt(np.mean(  (y1 - net.predict(x1))**2))   "
   ]
  },
  {
   "cell_type": "markdown",
   "metadata": {},
   "source": [
    "# ElasticNet Regression with CV"
   ]
  },
  {
   "cell_type": "code",
   "execution_count": 511,
   "metadata": {
    "collapsed": true
   },
   "outputs": [],
   "source": [
    "if 0:     \n",
    "    import sklearn.model_selection as ms\n",
    "    ms_k3 = ms.KFold(n_splits=N_folds)\n",
    "\n",
    "    alphaSize  = 51\n",
    "    rhoSize    = 51\n",
    "    alphaRange = np.linspace(1e-3, 10.001, alphaSize)\n",
    "    rhoRange   = np.linspace(0.01, 2.01, rhoSize)\n",
    "    comp_metric_tr = np.zeros((alphaSize, rhoSize, N_folds))\n",
    "    comp_metric_val = np.zeros((alphaSize, rhoSize, N_folds))\n",
    "\n",
    "    n_tr = np.zeros(N_folds)\n",
    "    n_val = np.zeros(N_folds)\n",
    "\n",
    "    net.set_params(normalize=False)\n",
    "\n",
    "    for alphaIdx, alpha in enumerate(alphaRange):\n",
    "        for rhoIdx, rho in enumerate(rhoRange):\n",
    "            net.set_params(alpha=alpha, l1_ratio=rho)\n",
    "            fold_i = -1\n",
    "            for train_idx, val_idx in ms_k3.split(X=x1, y=y1):\n",
    "                fold_i = fold_i+1 # start from 0 \n",
    "                net.fit( x1.iloc[train_idx,], y1.iloc[train_idx] )\n",
    "\n",
    "                if( alphaIdx==0 & rhoIdx==0):\n",
    "                    n_tr[fold_i]=len(train_idx) \n",
    "                    n_val[fold_i]=len(val_idx)            \n",
    "\n",
    "                comp_metric_tr[alphaIdx, rhoIdx, fold_i] = \\\n",
    "                np.sqrt(   np.mean(  (y1.iloc[train_idx] - \\\n",
    "                                      net.predict(x1.iloc[train_idx,]))**2  )   )\n",
    "\n",
    "                comp_metric_val[alphaIdx, rhoIdx, fold_i] = \\\n",
    "                np.sqrt(   np.mean(  (y1.iloc[val_idx] - \\\n",
    "                                      net.predict(x1.iloc[val_idx,]))**2  )   )     "
   ]
  },
  {
   "cell_type": "code",
   "execution_count": 512,
   "metadata": {
    "collapsed": true
   },
   "outputs": [],
   "source": [
    "if 0:    \n",
    "    comp_metric_tr_all = np.sum( comp_metric_tr*np.sqrt(n_tr), 2)/np.sum(np.sqrt(n_tr))\n",
    "    comp_metric_val_all = np.sum( comp_metric_val*np.sqrt(n_val), 2)/np.sum(np.sqrt(n_val))\n",
    "    np.min( comp_metric_val_all )\n",
    "    ri, ci = comp_metric_val_all.argmin()//comp_metric_val_all.shape[1], comp_metric_val_all.argmin()%comp_metric_val_all.shape[1]\n",
    "    print(comp_metric_tr_all[ri,ci])\n",
    "    print( alphaRange[ri] )\n",
    "    print( rhoRange[ci] )"
   ]
  },
  {
   "cell_type": "code",
   "execution_count": null,
   "metadata": {
    "collapsed": true
   },
   "outputs": [],
   "source": []
  },
  {
   "cell_type": "markdown",
   "metadata": {},
   "source": [
    "# Gradient Boosting"
   ]
  },
  {
   "cell_type": "code",
   "execution_count": 513,
   "metadata": {
    "collapsed": true
   },
   "outputs": [],
   "source": [
    "if 0:     \n",
    "    import sklearn.ensemble\n",
    "    from sklearn.ensemble import GradientBoostingRegressor\n",
    "\n",
    "    gbm = GradientBoostingRegressor()"
   ]
  },
  {
   "cell_type": "code",
   "execution_count": 514,
   "metadata": {
    "collapsed": true
   },
   "outputs": [],
   "source": [
    "if 0:     \n",
    "    # case 1\n",
    "    gbm.fit(x1,y1)\n",
    "    gbm.score(x1,y1) # R^2 of the fit\n",
    "    comp_metric_tr = np.sqrt(   np.mean(  (y1 - gbm.predict(x1))**2  )   )\n",
    "    print(comp_metric_tr)"
   ]
  },
  {
   "cell_type": "code",
   "execution_count": 515,
   "metadata": {
    "collapsed": true
   },
   "outputs": [],
   "source": [
    "if 0:     \n",
    "    # case 2 \n",
    "    gbm.set_params(verbose=1)\n",
    "    gbm.fit(x1,y1)"
   ]
  },
  {
   "cell_type": "code",
   "execution_count": 516,
   "metadata": {
    "collapsed": true
   },
   "outputs": [],
   "source": [
    "if 0:     \n",
    "    # case 3\n",
    "    gbm.set_params(learning_rate=0.01, n_estimators=500, verbose=1, subsample=0.7, warm_start=False, loss='ls', max_depth=2, max_features=2)\n",
    "    gbm.fit(x1,y1)\n",
    "    comp_metric_tr = np.sqrt(   np.mean(  (y1 - gbm.predict(x1))**2  )   )\n",
    "    print(comp_metric_tr)"
   ]
  },
  {
   "cell_type": "code",
   "execution_count": null,
   "metadata": {
    "collapsed": true
   },
   "outputs": [],
   "source": []
  },
  {
   "cell_type": "code",
   "execution_count": null,
   "metadata": {
    "collapsed": true
   },
   "outputs": [],
   "source": []
  },
  {
   "cell_type": "code",
   "execution_count": null,
   "metadata": {
    "collapsed": true
   },
   "outputs": [],
   "source": []
  },
  {
   "cell_type": "markdown",
   "metadata": {},
   "source": [
    "# GD with CV "
   ]
  },
  {
   "cell_type": "code",
   "execution_count": 517,
   "metadata": {
    "collapsed": true
   },
   "outputs": [],
   "source": [
    "# ref. codes\n",
    "\n",
    "# sample \n",
    "# grid_param = [{'n_neighbors': range(3, 31)}]\n",
    "# grid_param = [{'weights': ['uniform', 'distance'], 'n_neighbors': range(3, 31), 'p': [1, 2]}]\n",
    "\n",
    "# simple version reference\n",
    "# learning_rate=0.01, n_estimators=500, verbose=1, subsample=0.7, warm_start=False, loss='ls',\n",
    "# max_depth=2, max_features=2)\n",
    "\n",
    "# samples \n",
    "# grid_param2 = [{'weights': ['uniform', 'distance'], 'n_neighbors': range(3, 31), 'p': [1, 2]}]\n",
    "# para_search2 = GridSearchCV(knn, grid_param2, scoring='accuracy', cv=5, return_train_score=True)\n",
    "# para_search2.fit(iris.data, iris.target)\n",
    "# para_search2.cv_results_"
   ]
  },
  {
   "cell_type": "code",
   "execution_count": null,
   "metadata": {
    "collapsed": true
   },
   "outputs": [],
   "source": []
  },
  {
   "cell_type": "code",
   "execution_count": 518,
   "metadata": {
    "collapsed": true
   },
   "outputs": [],
   "source": [
    "# from PML_3_soln\n",
    "# GradientBoostingRegressor: \n",
    "# ref1) https://scikit-learn.org/stable/modules/generated/sklearn.ensemble.GradientBoostingRegressor.html \n",
    "# ref2) https://scikit-learn.org/stable/modules/ensemble.html#gradient-boosting \n",
    "\n",
    "if 0: \n",
    "    from sklearn.model_selection import GridSearchCV\n",
    "    from sklearn import datasets\n",
    "    import sklearn.ensemble\n",
    "    from sklearn.ensemble import GradientBoostingRegressor\n",
    "\n",
    "    gbm = GradientBoostingRegressor(warm_start=False, max_features = x1.shape[1])\n"
   ]
  },
  {
   "cell_type": "code",
   "execution_count": 519,
   "metadata": {
    "collapsed": true
   },
   "outputs": [],
   "source": [
    "if 0:     \n",
    "    grid_param_choice = input('1: full-length grid search in GBM, 2:simple one, 3: simplest one')\n",
    "    grid_param_choice = int(grid_param_choice)\n",
    "\n",
    "    if (grid_param_choice==1):\n",
    "        # full version\n",
    "        grid_param = [{'learning_rate':[0.001,0.01,0.1,0.5,1.0],\\\n",
    "                      'n_estimators':[50,100,200, 500, 1000, 5000, 10000], 'subsample':[0.3,0.5,0.7,0.9], \\\n",
    "                       'max_depth':[1,2,3,4], 'min_impurity_decrease': [0, 0.01], \\\n",
    "                       'min_impurity_split': [1e-7], 'max_features': ['auto', 'sqrt', 'log2'], \\\n",
    "                       'loss':['ls', 'lad', 'huber', 'quantile']}]\n",
    "    elif (grid_param_choice==2):\n",
    "        # grid_param simple version\n",
    "        grid_param = [{ 'learning_rate':[0.001,0.01,0.1,0.5,1.0], 'n_estimators':[50,100,200,350,500], \\\n",
    "                  'subsample':[0.3,0.5,0.7,0.9], 'loss':['ls', 'lad', 'huber', 'quantile'], \\\n",
    "                  'max_depth':[1,2,3,4] }]\n",
    "    elif (grid_param_choice==3):\n",
    "        # simplest version\n",
    "        grid_param = [{'learning_rate':[0.001,0.1],'n_estimators':[50,200, 1000], 'subsample':[0.3,0.7,], \\\n",
    "                       'max_depth':[2,4], 'max_features': ['auto', 'sqrt', 'log2'], \\\n",
    "                       'loss':['ls']}]     \n",
    "\n",
    "\n",
    "    # note) https://scikit-learn.org/stable/modules/generated/sklearn.ensemble.GradientBoostingRegressor.html\n",
    "    # max_features : int, float, string or None, optional (default=None)\n",
    "    # The number of features to consider when looking for the best split:\n",
    "\n",
    "    # If int, then consider max_features features at each split.\n",
    "    # If float, then max_features is a fraction and int(max_features * n_features) features are considered at each split.\n",
    "    # If “auto”, then max_features=n_features.\n",
    "    # If “sqrt”, then max_features=sqrt(n_features).\n",
    "    # If “log2”, then max_features=log2(n_features).\n",
    "    # If None, then max_features=n_features.\n",
    "\n",
    "    # note) https://scikit-learn.org/stable/modules/ensemble.html#gradient-boosting \n",
    "    # Empirical good default values are max_features=n_features for regression problems, \n",
    "    # and max_features=sqrt(n_features) for classification tasks"
   ]
  },
  {
   "cell_type": "code",
   "execution_count": 520,
   "metadata": {
    "collapsed": true
   },
   "outputs": [],
   "source": [
    "# remaining codes for simple version\n",
    "\n",
    "# para_search = GridSearchCV( estimator=gbm, param_grid=grid_param, \\\n",
    "#                            scoring=‘neg_mean_squared_error’, \\\n",
    "#                            cv=N_folds, return_train_score=True )\n",
    "# para_search = GridSearchCV(estimator=gbm, param_grid=grid_param, scoring=‘r2’, cv=N_folds, return_train_score=True )\n",
    "\n",
    "if 0: \n",
    "    para_search = GridSearchCV(estimator=gbm, param_grid=grid_param, scoring='neg_mean_squared_error', cv=N_folds, return_train_score=True)\n",
    "    \n",
    "    para_search = para_search.fit(x1, y1)\n",
    "    # para_search.fit(x1, y1)"
   ]
  },
  {
   "cell_type": "code",
   "execution_count": null,
   "metadata": {
    "collapsed": true
   },
   "outputs": [],
   "source": []
  },
  {
   "cell_type": "code",
   "execution_count": 521,
   "metadata": {
    "collapsed": true
   },
   "outputs": [],
   "source": [
    "if 0: \n",
    "    print(list(para_search.cv_results_.keys()))\n",
    "    para_search.cv_results_\n",
    "    para_search.grid_scores_ # in MSE \n",
    "\n",
    "    print(para_search.best_score_) # in MSE \n",
    "    print(para_search.best_params_)\n",
    "\n",
    "    # notes) \n",
    "    # best_score_: Score of best_estimator on the hold out data.\n",
    "    # best_params_: Parameter setting that gave the best results on the hold out data."
   ]
  },
  {
   "cell_type": "code",
   "execution_count": 522,
   "metadata": {
    "collapsed": true
   },
   "outputs": [],
   "source": [
    "if 0:     \n",
    "    import sklearn.model_selection as ms\n",
    "\n",
    "    comp_metric_tr = []\n",
    "    comp_metric_val = []\n",
    "    n_tr = []\n",
    "    n_val = []\n",
    "    RSS_tr = []\n",
    "    RSS_val = []\n",
    "    R2_tr = []\n",
    "    R2_val = []\n",
    "\n",
    "    ms_k3 = ms.KFold(n_splits=N_folds)\n",
    "    gbm_best = para_search.best_estimator_\n",
    "\n",
    "    # for train_idx, val_idx in cv_k3:\n",
    "    for train_idx, val_idx in ms_k3.split(X=x1, y=y1):\n",
    "        gbm_best.fit( x1.iloc[train_idx,], y1.iloc[train_idx] )\n",
    "        n_tr.append( len(train_idx) )\n",
    "        n_val.append( len(val_idx) )\n",
    "        comp_metric_tr.append(np.sqrt(   np.mean(  (y1.iloc[train_idx] - gbm_best.predict(x1.iloc[train_idx,]))**2  )   ))\n",
    "        comp_metric_val.append(np.sqrt(   np.mean(  (y1.iloc[val_idx] - gbm_best.predict(x1.iloc[val_idx,]))**2  )   ))\n",
    "        RSS_tr.append(   np.sum((gbm_best.predict(x1.iloc[train_idx,]) - y1.iloc[train_idx]) ** 2) )\n",
    "        RSS_val.append(   np.sum((gbm_best.predict(x1.iloc[val_idx,]) - y1.iloc[val_idx]) ** 2) )\n",
    "        R2_tr.append( gbm_best.score(x1.iloc[train_idx,], y1.iloc[train_idx])) \n",
    "        R2_val.append( gbm_best.score(x1.iloc[val_idx,], y1.iloc[val_idx]))"
   ]
  },
  {
   "cell_type": "code",
   "execution_count": 523,
   "metadata": {
    "collapsed": true
   },
   "outputs": [],
   "source": [
    "if 0:    \n",
    "    comp_metric_tr_all = np.sum(comp_metric_tr*np.sqrt(n_tr)/sum(np.sqrt(n_tr)))\n",
    "    print(comp_metric_tr_all)\n",
    "\n",
    "    comp_metric_val_all = np.sum(comp_metric_val*np.sqrt(n_val)/sum(np.sqrt(n_val)))\n",
    "    print(comp_metric_val_all)"
   ]
  },
  {
   "cell_type": "code",
   "execution_count": 524,
   "metadata": {
    "collapsed": true
   },
   "outputs": [],
   "source": [
    "if 0: \n",
    "    gbm_best = para_search.best_estimator_\n",
    "    gbm_best.fit(x1, y1) ## trained again on whole x1 \n",
    "    gbm_best.score(x1, y1) # in MSE \n",
    "\n",
    "    comp_metric_tr = np.sqrt(   np.mean(  (y1 - gbm_best.predict(x1))**2  )   )\n",
    "    print( comp_metric_tr )"
   ]
  },
  {
   "cell_type": "markdown",
   "metadata": {},
   "source": [
    "# Kmeans clustering #1 (simple"
   ]
  },
  {
   "cell_type": "code",
   "execution_count": 525,
   "metadata": {},
   "outputs": [],
   "source": [
    "import matplotlib.pyplot as plt\n",
    "plt.style.use('ggplot')\n",
    "%matplotlib inline\n",
    "# from __future__ import print_function\n",
    "from sklearn.cluster import KMeans\n",
    "kmeans = KMeans()   "
   ]
  },
  {
   "cell_type": "code",
   "execution_count": 526,
   "metadata": {},
   "outputs": [],
   "source": [
    "if( DoKmeansCluster==1):\n",
    "    %matplotlib inline\n",
    "    import numpy as np\n",
    "    import matplotlib.pyplot as plt\n",
    "    plt.rcParams['figure.figsize'] = 8, 6\n",
    "    np.random.seed(42)\n",
    "\n",
    "    kmeans.set_params(n_clusters=Kmeans_cl_size)\n",
    "    kmeans.fit(x)\n",
    "    \n",
    "    print('\\n ====== kmeans.cluster_centers_ ======')\n",
    "    print(kmeans.cluster_centers_)\n",
    "    \n",
    "    print('\\n kmeans.labels_[0:50]')\n",
    "    print(kmeans.labels_[0:50])\n",
    "    \n",
    "    plt.hist( kmeans.labels_ )"
   ]
  },
  {
   "cell_type": "code",
   "execution_count": null,
   "metadata": {
    "collapsed": true
   },
   "outputs": [],
   "source": []
  },
  {
   "cell_type": "code",
   "execution_count": null,
   "metadata": {},
   "outputs": [],
   "source": []
  },
  {
   "cell_type": "code",
   "execution_count": 527,
   "metadata": {},
   "outputs": [],
   "source": [
    "if( DoKmeansCluster==1):\n",
    "    # info\n",
    "    # x.shape = (58380, 10)\n",
    "\n",
    "    # kmeans.cluster_centers_.shape = (n_cluster, # of feature)\n",
    "\n",
    "    # kmeans.labels_.shape = (58380,)\n",
    "\n",
    "    # type( kmeans.labels_ ) = numpy.ndarray\n",
    "\n",
    "    pd.Series( kmeans.labels_).value_counts()\n",
    "\n",
    "    # x.columns = Index(['age', 'sex', 'smoking', 'exercise', 'alchol', 'hypertension',\n",
    "    #        'Diabetes', 'Height', 'Weight', 'BMI'],\n",
    "    #       dtype='object')"
   ]
  },
  {
   "cell_type": "code",
   "execution_count": 528,
   "metadata": {},
   "outputs": [],
   "source": [
    "# note) We cannot plot more than 2 dimensions at a time. \n",
    "if( DoKmeansCluster==1):\n",
    "    ind1 = 0\n",
    "    ind2 = 1\n",
    "\n",
    "    plt.scatter(x.iloc[:, ind1], x.iloc[:, ind2], c=kmeans.labels_, alpha=0.8)\n",
    "    plt.scatter(kmeans.cluster_centers_[:, ind1], kmeans.cluster_centers_[:, ind2], \n",
    "                marker='+', s=1000, c=range(0, Kmeans_cl_size) )\n",
    "\n",
    "    plt.xlabel(x.columns[ind1], fontsize=16)\n",
    "    plt.ylabel(x.columns[ind2], fontsize=16)\n",
    "    plt.show()"
   ]
  },
  {
   "cell_type": "code",
   "execution_count": 529,
   "metadata": {},
   "outputs": [],
   "source": [
    "# note) We cannot plot more than 2 dimensions at a time. \n",
    "if( DoKmeansCluster==1):\n",
    "    ind1 = 2\n",
    "    ind2 = 3\n",
    "\n",
    "    plt.scatter(x.iloc[:, ind1], x.iloc[:, ind2], c=kmeans.labels_, alpha=0.8)\n",
    "    plt.scatter(kmeans.cluster_centers_[:, ind1], kmeans.cluster_centers_[:, ind2], \n",
    "                marker='+', s=1000, c=range(0, Kmeans_cl_size) )\n",
    "\n",
    "    plt.xlabel(x.columns[ind1], fontsize=16)\n",
    "    plt.ylabel(x.columns[ind2], fontsize=16)\n",
    "    plt.show()"
   ]
  },
  {
   "cell_type": "code",
   "execution_count": 530,
   "metadata": {},
   "outputs": [],
   "source": [
    "# note) We cannot plot more than 2 dimensions at a time. \n",
    "if( DoKmeansCluster==1):\n",
    "    ind1 = 4\n",
    "    ind2 = 5\n",
    "\n",
    "    plt.scatter(x.iloc[:, ind1], x.iloc[:, ind2], c=kmeans.labels_, alpha=0.8)\n",
    "    plt.scatter(kmeans.cluster_centers_[:, ind1], kmeans.cluster_centers_[:, ind2], \n",
    "                marker='+', s=1000, c=range(0, Kmeans_cl_size) )\n",
    "\n",
    "    plt.xlabel(x.columns[ind1], fontsize=16)\n",
    "    plt.ylabel(x.columns[ind2], fontsize=16)\n",
    "    plt.show()"
   ]
  },
  {
   "cell_type": "code",
   "execution_count": 531,
   "metadata": {},
   "outputs": [],
   "source": [
    "if( DoKmeansCluster==1):\n",
    "    ind1 = 6\n",
    "    ind2 = 7\n",
    "\n",
    "    plt.scatter(x.iloc[:, ind1], x.iloc[:, ind2], c=kmeans.labels_, alpha=0.8)\n",
    "    plt.scatter(kmeans.cluster_centers_[:, ind1], kmeans.cluster_centers_[:, ind2], \n",
    "                marker='+', s=1000, c=range(0, Kmeans_cl_size) )\n",
    "\n",
    "    plt.xlabel(x.columns[ind1], fontsize=16)\n",
    "    plt.ylabel(x.columns[ind2], fontsize=16)\n",
    "    plt.show()"
   ]
  },
  {
   "cell_type": "code",
   "execution_count": 532,
   "metadata": {
    "scrolled": true
   },
   "outputs": [],
   "source": [
    "# note) We cannot plot more than 2 dimensions at a time. \n",
    "if( DoKmeansCluster==1):\n",
    "    ind1 = 8\n",
    "    ind2 = 9\n",
    "\n",
    "    plt.scatter(x.iloc[:, ind1], x.iloc[:, ind2], c=kmeans.labels_, alpha=0.8)\n",
    "    plt.scatter(kmeans.cluster_centers_[:, ind1], kmeans.cluster_centers_[:, ind2], \n",
    "                marker='+', s=1000, c=range(0, Kmeans_cl_size) )\n",
    "\n",
    "    plt.xlabel(x.columns[ind1], fontsize=16)\n",
    "    plt.ylabel(x.columns[ind2], fontsize=16)\n",
    "    plt.show()"
   ]
  },
  {
   "cell_type": "code",
   "execution_count": 533,
   "metadata": {},
   "outputs": [],
   "source": [
    "# note) We cannot plot more than 2 dimensions at a time. \n",
    "if( DoKmeansCluster==1):\n",
    "    ind1 = 0\n",
    "    ind2 = 8\n",
    "\n",
    "    plt.scatter(x.iloc[:, ind1], x.iloc[:, ind2], c=kmeans.labels_, alpha=0.8)\n",
    "    # plt.scatter(kmeans.cluster_centers_[:, ind1], kmeans.cluster_centers_[:, ind2], \n",
    "    #             marker='+', s=1000, c=range(0, Kmeans_cl_size) )\n",
    "\n",
    "    plt.xlabel(x.columns[ind1], fontsize=16)\n",
    "    plt.ylabel(x.columns[ind2], fontsize=16)\n",
    "    plt.show()"
   ]
  },
  {
   "cell_type": "code",
   "execution_count": 534,
   "metadata": {},
   "outputs": [],
   "source": [
    "# note) We cannot plot more than 2 dimensions at a time. \n",
    "if( DoKmeansCluster==1):\n",
    "    ind1 = 0\n",
    "    ind2 = 9\n",
    "\n",
    "    plt.scatter(x.iloc[:, ind1], x.iloc[:, ind2], c=kmeans.labels_, alpha=0.8)\n",
    "    # plt.scatter(kmeans.cluster_centers_[:, ind1], kmeans.cluster_centers_[:, ind2], \n",
    "    #             marker='+', s=1000, c=range(0, Kmeans_cl_size) )\n",
    "\n",
    "    plt.xlabel(x.columns[ind1], fontsize=16)\n",
    "    plt.ylabel(x.columns[ind2], fontsize=16)\n",
    "    plt.show()"
   ]
  },
  {
   "cell_type": "code",
   "execution_count": 535,
   "metadata": {},
   "outputs": [],
   "source": [
    "# note) We cannot plot more than 2 dimensions at a time. \n",
    "if( DoKmeansCluster==1):\n",
    "    ind1 = 7\n",
    "    ind2 = 8\n",
    "\n",
    "    plt.scatter(x.iloc[:, ind1], x.iloc[:, ind2], c=kmeans.labels_, alpha=0.8)\n",
    "    # plt.scatter(kmeans.cluster_centers_[:, ind1], kmeans.cluster_centers_[:, ind2], \n",
    "    #             marker='+', s=1000, c=range(0, Kmeans_cl_size) )\n",
    "\n",
    "    plt.xlabel(x.columns[ind1], fontsize=16)\n",
    "    plt.ylabel(x.columns[ind2], fontsize=16)\n",
    "    plt.show()"
   ]
  },
  {
   "cell_type": "code",
   "execution_count": 536,
   "metadata": {},
   "outputs": [],
   "source": [
    "# note) We cannot plot more than 2 dimensions at a time. \n",
    "if( DoKmeansCluster==1):\n",
    "    ind1 = 7\n",
    "    ind2 = 9\n",
    "\n",
    "    plt.scatter(x.iloc[:, ind1], x.iloc[:, ind2], c=kmeans.labels_, alpha=0.8)\n",
    "    # plt.scatter(kmeans.cluster_centers_[:, ind1], kmeans.cluster_centers_[:, ind2], \n",
    "    #             marker='+', s=1000, c=range(0, Kmeans_cl_size) )\n",
    "\n",
    "    plt.xlabel(x.columns[ind1], fontsize=16)\n",
    "    plt.ylabel(x.columns[ind2], fontsize=16)\n",
    "    plt.show()"
   ]
  },
  {
   "cell_type": "code",
   "execution_count": 537,
   "metadata": {},
   "outputs": [],
   "source": [
    "# note) We cannot plot more than 2 dimensions at a time. \n",
    "if( DoKmeansCluster==1):\n",
    "    ind1 = 8\n",
    "    ind2 = 9\n",
    "\n",
    "    plt.scatter(x.iloc[:, ind1], x.iloc[:, ind2], c=kmeans.labels_, alpha=0.8)\n",
    "    # plt.scatter(kmeans.cluster_centers_[:, ind1], kmeans.cluster_centers_[:, ind2], \n",
    "    #             marker='+', s=1000, c=range(0, Kmeans_cl_size) )\n",
    "\n",
    "    plt.xlabel(x.columns[ind1], fontsize=16)\n",
    "    plt.ylabel(x.columns[ind2], fontsize=16)\n",
    "    plt.show()"
   ]
  },
  {
   "cell_type": "code",
   "execution_count": 538,
   "metadata": {
    "collapsed": true
   },
   "outputs": [],
   "source": [
    "if( DoKmeansCluster==1):\n",
    "    from PlottingFunctions import plot_inertia, plot_silhouette\n",
    "    \n",
    "    plot_inertia(kmeans, x, range(1, 20))\n",
    "    # The elbow method plots the inertia (sometimes called distortion) for different values of  k\n",
    "    # With this, we can identify the value of  k\n",
    "    # where the distortion begins to change most rapidly:\n",
    "    \n",
    "    kmeans.cluster_centers_.shape"
   ]
  },
  {
   "cell_type": "code",
   "execution_count": null,
   "metadata": {
    "collapsed": true
   },
   "outputs": [],
   "source": []
  },
  {
   "cell_type": "code",
   "execution_count": null,
   "metadata": {
    "collapsed": true
   },
   "outputs": [],
   "source": []
  },
  {
   "cell_type": "code",
   "execution_count": null,
   "metadata": {
    "collapsed": true
   },
   "outputs": [],
   "source": []
  },
  {
   "cell_type": "code",
   "execution_count": null,
   "metadata": {
    "collapsed": true
   },
   "outputs": [],
   "source": []
  },
  {
   "cell_type": "code",
   "execution_count": null,
   "metadata": {},
   "outputs": [],
   "source": []
  },
  {
   "cell_type": "code",
   "execution_count": null,
   "metadata": {},
   "outputs": [],
   "source": []
  },
  {
   "cell_type": "markdown",
   "metadata": {},
   "source": [
    "# Codes for Metasyn"
   ]
  },
  {
   "cell_type": "code",
   "execution_count": 539,
   "metadata": {
    "collapsed": true
   },
   "outputs": [],
   "source": [
    "import sklearn.model_selection as ms"
   ]
  },
  {
   "cell_type": "code",
   "execution_count": 540,
   "metadata": {
    "collapsed": true
   },
   "outputs": [],
   "source": [
    "if 0:\n",
    "    import sklearn.cross_validation as cv\n",
    "    cv_k3 = cv.KFold(6, n_folds=3)\n",
    "    for train_idx, test_idx in cv_k3:\n",
    "            print('Train:', train_idx, 'Validation:', test_idx )"
   ]
  },
  {
   "cell_type": "code",
   "execution_count": 541,
   "metadata": {
    "collapsed": true
   },
   "outputs": [],
   "source": [
    "from sklearn import datasets\n",
    "if 1: \n",
    "    # x_train, x_test, y2_train, y2_test = ms.train_test_split( x, y2, test_size=test_size, random_state=0)\n",
    "    # note) we already have y, y1, y2\n",
    "\n",
    "    x_train, x_test, y_train, y_test = ms.train_test_split( x, y, test_size=test_size, random_state=0)\n",
    "    y1_train = y_train['Metscore']\n",
    "    y2_train = y_train['Metasyn']\n",
    "    y1_test = y_test['Metscore']\n",
    "    y2_test = y_test['Metasyn'] \n",
    "    \n",
    "if 0:\n",
    "    ms_k3s = ms.StratifiedKFold(n_splits=N_folds)\n",
    "    # for train_idx, test_idx in ms_k3s.split(X=x_train, y=y1_train): # y1 or y2, doesn't matter\n",
    "    # print('Train:', y[train_idx], 'test: ', y[test_idx])    \n",
    "    # more codes needed here "
   ]
  },
  {
   "cell_type": "markdown",
   "metadata": {},
   "source": [
    "# SMOTE algorithm, only on x_train and y1/y2_train"
   ]
  },
  {
   "cell_type": "code",
   "execution_count": 542,
   "metadata": {},
   "outputs": [
    {
     "name": "stdout",
     "output_type": "stream",
     "text": [
      "(40866,)\n",
      "Before imbalance adjustment, y2_train pos ratio = %f 0.1583957323936769\n",
      "Before imbalance adjustment, y2_test pos ratio = %f 0.1547333561722051\n",
      "(30953,)\n",
      "After imbalance adjustment, y2_train pos ratio = %f 0.44444803411624073\n",
      "After imbalance adjustment, y2_test pos ratio = %f 0.1547333561722051\n"
     ]
    }
   ],
   "source": [
    "if DoBalanceY =='y' or DoBalanceY =='Y':\n",
    "    from imblearn.over_sampling import SMOTE\n",
    "    from imblearn.over_sampling import ADASYN\n",
    "    from imblearn.under_sampling import RandomUnderSampler\n",
    "    import imblearn.combine as hsam\n",
    "    \n",
    "    print( y2_train.shape )\n",
    "    print( \"Before imbalance adjustment, y2_train pos ratio = %f\", sum(y2_train)/y2_train.shape[0] )\n",
    "    print( \"Before imbalance adjustment, y2_test pos ratio = %f\" , sum(y2_test)/y2_test.shape[0] )    \n",
    "\n",
    "    xy1_train = x_train.copy()\n",
    "    xy1_train['Metscore']=y1_train  \n",
    "    # so that, when under/oversampling is done to solve imbalance of y1,\n",
    "    # y2 is also adjusted correspondingly \n",
    "    \n",
    "    # ovs: means oversampled \n",
    "    if SMOTEorADASYN==1:\n",
    "        SMOTEos= SMOTE(ratio=BalanceRatio, k_neighbors = 5) \n",
    "        ovs_xy1_train, ovs_y2_train = SMOTEos.fit_sample(xy1_train,y2_train)\n",
    "    elif SMOTEorADASYN==2:    \n",
    "        ADASYNos= ADASYN(ratio=BalanceRatio, k = 5, n_neighbors = 5) \n",
    "        ovs_xy1_train, ovs_y2_train = ADASYNos.fit_sample(xy1_train,y2_train)\n",
    "    elif SMOTEorADASYN==3:\n",
    "        rus= RandomUnderSampler(ratio=BalanceRatio)\n",
    "        ovs_xy1_train, ovs_y2_train = rus.fit_sample(xy1_train,y2_train)\n",
    "    elif SMOTEorADASYN ==4: # then use hybrid     \n",
    "        SENN =hsam.SMOTEENN(ratio = BalanceRatio, k = 5, n_neighbors = 5)\n",
    "        ovs_xy1_train, ovs_y2_train = SENN.fit_sample(xy1_train,y2_train)\n",
    "    elif SMOTEorADASYN ==5: # SMOTE => random undersampler  \n",
    "        SMOTEos= SMOTE(ratio=BalanceRatio/2, k_neighbors = 5) \n",
    "        ovs_xy1_train, ovs_y2_train = SMOTEos.fit_sample(xy1_train,y2_train)    \n",
    "        rus= RandomUnderSampler(ratio=BalanceRatio)\n",
    "        ovs_xy1_train, ovs_y2_train = rus.fit_sample(ovs_xy1_train,ovs_y2_train)  \n",
    "    elif SMOTEorADASYN ==6: # ADASYN => random undersampler \n",
    "        ADASYNos= ADASYN(ratio=BalanceRatio/2, k = 5, n_neighbors = 5) \n",
    "        ovs_xy1_train, ovs_y2_train = ADASYNos.fit_sample(xy1_train,y2_train)\n",
    "        rus= RandomUnderSampler(ratio=BalanceRatio)\n",
    "        ovs_xy1_train, ovs_y2_train = rus.fit_sample(ovs_xy1_train,ovs_y2_train)      \n",
    " \n",
    "    pd.Series(ovs_y2_train).value_counts() # to check \n",
    "  \n",
    "    xy1_train = pd.DataFrame(data=ovs_xy1_train, columns=xy1_train.columns)  \n",
    "        # 1st row of x_train is re-used as the column names\n",
    "        # After under/oversampling, sh re-generate as dataframes \n",
    "    \n",
    "    x_train = xy1_train.drop('Metscore',1)\n",
    "    y1_train = xy1_train['Metscore'] # y1_train with under/oversampingh \n",
    "    del xy1_train \n",
    "        \n",
    "    x_train.reset_index()\n",
    "    y2_train = ovs_y2_train # y2_train with under/oversampling # still an ndarray\n",
    "    y2_train = pd.Series(y2_train) # I wanto convert from ndarray to series\n",
    "    y2_train.rename('Metasyn') # re-assign column name\n",
    "    \n",
    "    print( y2_train.shape )\n",
    "    print( \"After imbalance adjustment, y2_train pos ratio = %f\", sum(y2_train)/y2_train.shape[0] )\n",
    "    print( \"After imbalance adjustment, y2_test pos ratio = %f\" , sum(y2_test)/y2_test.shape[0] )        "
   ]
  },
  {
   "cell_type": "code",
   "execution_count": null,
   "metadata": {
    "collapsed": true
   },
   "outputs": [],
   "source": []
  },
  {
   "cell_type": "code",
   "execution_count": null,
   "metadata": {
    "collapsed": true
   },
   "outputs": [],
   "source": []
  },
  {
   "cell_type": "code",
   "execution_count": 543,
   "metadata": {
    "collapsed": true
   },
   "outputs": [],
   "source": [
    "# end test codes"
   ]
  },
  {
   "cell_type": "markdown",
   "metadata": {},
   "source": [
    "# Do Standardization again, after over/under sampling (x_train and x_test)"
   ]
  },
  {
   "cell_type": "code",
   "execution_count": 544,
   "metadata": {
    "collapsed": true
   },
   "outputs": [],
   "source": [
    "#### test coces ####\n",
    "#### now, restandardize, but do it only for x_train, and maybe, for y1_train\n",
    "#### forget about x, df\n",
    "\n",
    "if (DoNormalization=='Y' or DoNormalization=='y'):\n",
    "    from sklearn.preprocessing import StandardScaler, MinMaxScaler, MaxAbsScaler \n",
    "    import statsmodels.api as sm \n",
    "\n",
    "    if scaleType not in ['standard', 'minmax', 'maxabs']: \n",
    "        raise ValueError('%s is not a valid choice' %(scaleType))\n",
    "    if scaleType == 'standard':\n",
    "        scaler = StandardScaler()\n",
    "    elif scaleType == 'minmax':\n",
    "        scaler = MinMaxScaler()\n",
    "    elif scaleType == 'maxabs':\n",
    "        scaler = MaxAbsScaler()\n",
    "        \n",
    "    setA = set( df_info.loc[df_info['iotyp']=='inp'].index ) # input only\n",
    "    setB = set( df_info.loc[df_info['dtyp']=='numeric'].index ) # numeric only \n",
    "    setC = set( x_train.columns ) # sh belong to x_train \n",
    "    \n",
    "    nume_list = list( setA & setB & setC )\n",
    "    \n",
    "    # part of x1 extracted for normalization\n",
    "    scaler.fit( x_train[nume_list] ) # only numerical predictors, except for SalePrice, is input\n",
    "                        # Fix the scale model using the train set\n",
    "    \n",
    "    x_train[nume_list] = scaler.transform(x_train[nume_list])     \n",
    "    x_test[nume_list] = scaler.transform(x_test[nume_list])  \n",
    "# end of if (DoNormalization=='Y' or DoNormalization=='y'):    \n",
    "    \n",
    " "
   ]
  },
  {
   "cell_type": "code",
   "execution_count": 545,
   "metadata": {},
   "outputs": [],
   "source": [
    "# x_train.describe()"
   ]
  },
  {
   "cell_type": "code",
   "execution_count": 546,
   "metadata": {},
   "outputs": [],
   "source": [
    "# x_test.describe()"
   ]
  },
  {
   "cell_type": "code",
   "execution_count": 547,
   "metadata": {
    "collapsed": true
   },
   "outputs": [],
   "source": [
    "# x_train.value_counts()"
   ]
  },
  {
   "cell_type": "code",
   "execution_count": 548,
   "metadata": {
    "collapsed": true
   },
   "outputs": [],
   "source": [
    "# x_test.value_counts()"
   ]
  },
  {
   "cell_type": "code",
   "execution_count": null,
   "metadata": {
    "collapsed": true
   },
   "outputs": [],
   "source": []
  },
  {
   "cell_type": "code",
   "execution_count": 549,
   "metadata": {
    "collapsed": true
   },
   "outputs": [],
   "source": [
    "if 0: \n",
    "    x_train.to_csv('./data/x_train_std.csv')\n",
    "    x_test.to_csv('./data/x_test_std.csv')\n",
    "    y1_train.to_csv('./data/y1_train_std.csv')\n",
    "    y2_train.to_csv('./data/y2_train_std.csv')"
   ]
  },
  {
   "cell_type": "code",
   "execution_count": 550,
   "metadata": {
    "collapsed": true
   },
   "outputs": [],
   "source": [
    "x_train.iloc[0:1000, :].to_csv('./data/x_train_std_sh.csv')"
   ]
  },
  {
   "cell_type": "code",
   "execution_count": null,
   "metadata": {
    "collapsed": true
   },
   "outputs": [],
   "source": []
  },
  {
   "cell_type": "code",
   "execution_count": null,
   "metadata": {
    "collapsed": true
   },
   "outputs": [],
   "source": []
  },
  {
   "cell_type": "code",
   "execution_count": null,
   "metadata": {
    "collapsed": true
   },
   "outputs": [],
   "source": []
  },
  {
   "cell_type": "code",
   "execution_count": null,
   "metadata": {
    "collapsed": true
   },
   "outputs": [],
   "source": []
  },
  {
   "cell_type": "code",
   "execution_count": null,
   "metadata": {
    "collapsed": true
   },
   "outputs": [],
   "source": []
  },
  {
   "cell_type": "code",
   "execution_count": null,
   "metadata": {
    "collapsed": true
   },
   "outputs": [],
   "source": []
  },
  {
   "cell_type": "markdown",
   "metadata": {},
   "source": [
    "# Detecting Multicollinearity Among Features (Numerical, Nominal, Ordinal)"
   ]
  },
  {
   "cell_type": "code",
   "execution_count": 551,
   "metadata": {},
   "outputs": [],
   "source": [
    "if Do_LogReg==1:\n",
    "    from sklearn import linear_model\n",
    "    scores_ycat = {}\n",
    "    scores_ycont = {}\n",
    "    decision_logit = linear_model.LogisticRegression()\n",
    "    ols2 = linear_model.LinearRegression()\n",
    "\n",
    "    from sklearn.metrics import r2_score\n",
    "    # sns.set(rc={'figure.figsize':(11.7,8.27)})\n",
    "\n",
    "    for feature_name in x_train.columns:    \n",
    "        x_train2     = x_train.copy() # reproduced each time \n",
    "        feature = x_train2[feature_name].copy() # df w/o specific column\n",
    "        feature = feature.astype('int')\n",
    "        \n",
    "        x_train2.drop(feature_name, axis=1, inplace=True)\n",
    "\n",
    "        if (df_info.loc[feature_name, 'dtyp']==\"ordinal\" or df_info.loc[feature_name, 'dtyp']==\"nominal\"):\n",
    "            decision_logit.fit(x_train2, feature) # accuray, if for classification problem \n",
    "            scores_ycat[feature_name] = decision_logit.score(x_train2, feature)  \n",
    "        else:\n",
    "            ols2.fit(x_train2, feature)\n",
    "            scores_ycont[feature_name] = ols2.score(x_train2, feature)  \n",
    "\n",
    "    fig, ax = plt.subplots()\n",
    "    fig.set_size_inches(11.7, 8.27)\n",
    "    \n",
    "    gg = sns.barplot(x='index', y='accuracy', data=pd.DataFrame(scores_ycat, index=['accuracy']).T.reset_index())\n",
    "    gg.set_xticklabels(gg.get_xticklabels(), rotation=45)\n",
    "    plt.title('Accuray of a feature against all the other features')\n",
    "\n",
    "    fig, ax = plt.subplots()\n",
    "    fig.set_size_inches(11.7, 8.27)    \n",
    "    \n",
    "    gg = sns.barplot(x='index', y='R2', data=pd.DataFrame(scores_ycont, index=['R2']).T.reset_index())\n",
    "    gg.set_xticklabels(gg.get_xticklabels(), rotation=45)\n",
    "    plt.title('R2 of a feature against all the other features')\n",
    "        \n",
    "    del feature\n",
    "    del x_train2"
   ]
  },
  {
   "cell_type": "markdown",
   "metadata": {},
   "source": [
    "# Logistic Regression for Metasyn"
   ]
  },
  {
   "cell_type": "code",
   "execution_count": 552,
   "metadata": {
    "collapsed": true
   },
   "outputs": [],
   "source": [
    "if Do_LogReg==1:\n",
    "    from sklearn import linear_model"
   ]
  },
  {
   "cell_type": "markdown",
   "metadata": {},
   "source": [
    "## Plot before fitting"
   ]
  },
  {
   "cell_type": "code",
   "execution_count": 553,
   "metadata": {
    "scrolled": true
   },
   "outputs": [],
   "source": [
    "if Do_LogReg==1:\n",
    "    from PlottingFunction import data_2Dplot, logistic_model_2Dplot, plotModel    \n",
    "    \n",
    "    ind1=0\n",
    "    ind2=1\n",
    "    scores_2D = x_train.iloc[:, [ind1,ind2]]\n",
    "\n",
    "    ## Plotting\n",
    "    plt.figure(figsize=(10, 6))\n",
    "    data_2Dplot(scores_2D, y2_train, \\\n",
    "                  legends=[\"Metasyn pos\", \"Metasyn neg\"], \\\n",
    "                  xlabel=x_train.columns[ind1], ylabel=x_train.columns[ind2])\n",
    "    plt.show()"
   ]
  },
  {
   "cell_type": "code",
   "execution_count": 554,
   "metadata": {},
   "outputs": [],
   "source": [
    "if Do_LogReg==1:    \n",
    "    ind1=2\n",
    "    ind2=3\n",
    "    scores_2D = x_train.iloc[:, [ind1,ind2]]\n",
    "\n",
    "    ## Plotting\n",
    "    plt.figure(figsize=(10, 6))\n",
    "    data_2Dplot(scores_2D, y2_train, \\\n",
    "                  legends=[\"Metasyn pos\", \"Metasyn neg\"], \\\n",
    "                  xlabel=x_train.columns[ind1], ylabel=x_train.columns[ind2])\n",
    "    plt.show()"
   ]
  },
  {
   "cell_type": "code",
   "execution_count": 555,
   "metadata": {},
   "outputs": [],
   "source": [
    "if Do_LogReg==1:    \n",
    "    ind1=4\n",
    "    ind2=5\n",
    "    scores_2D = x_train.iloc[:, [ind1,ind2]]\n",
    "\n",
    "    ## Plotting\n",
    "    plt.figure(figsize=(10, 6))\n",
    "    data_2Dplot(scores_2D, y2_train, \\\n",
    "                  legends=[\"Metasyn pos\", \"Metasyn neg\"], \\\n",
    "                  xlabel=x_train.columns[ind1], ylabel=x_train.columns[ind2])\n",
    "    plt.show()"
   ]
  },
  {
   "cell_type": "code",
   "execution_count": 556,
   "metadata": {},
   "outputs": [],
   "source": [
    "if Do_LogReg==1:    \n",
    "    ind1=6\n",
    "    ind2=7\n",
    "    scores_2D = x_train.iloc[:, [ind1,ind2]]\n",
    "\n",
    "    ## Plotting\n",
    "    plt.figure(figsize=(10, 6))\n",
    "    data_2Dplot(scores_2D, y2_train, \\\n",
    "                  legends=[\"Metasyn pos\", \"Metasyn neg\"], \\\n",
    "                  xlabel=x_train.columns[ind1], ylabel=x_train.columns[ind2])\n",
    "    plt.show()"
   ]
  },
  {
   "cell_type": "code",
   "execution_count": 557,
   "metadata": {},
   "outputs": [],
   "source": [
    "if Do_LogReg==1:    \n",
    "    ind1=8\n",
    "    ind2=9\n",
    "    scores_2D = x_train.iloc[:, [ind1,ind2]]\n",
    "\n",
    "    ## Plotting\n",
    "    plt.figure(figsize=(10, 6))\n",
    "    data_2Dplot(scores_2D, y2_train, \\\n",
    "                  legends=[\"Metasyn pos\", \"Metasyn neg\"], \\\n",
    "                  xlabel=x_train.columns[ind1], ylabel=x_train.columns[ind2])\n",
    "    plt.show()"
   ]
  },
  {
   "cell_type": "code",
   "execution_count": 558,
   "metadata": {},
   "outputs": [],
   "source": [
    "if Do_LogReg==1:    \n",
    "    ind1=0\n",
    "    ind2=8\n",
    "    scores_2D = x_train.iloc[:, [ind1,ind2]]\n",
    "    decision = y2_train\n",
    "\n",
    "    ## Plotting\n",
    "    plt.figure(figsize=(10, 6))\n",
    "    data_2Dplot(scores_2D, decision, \\\n",
    "                  legends=[\"Metasyn pos\", \"Metasyn neg\"], \\\n",
    "                  xlabel=x_train.columns[ind1], ylabel=x_train.columns[ind2] )\n",
    "    plt.show()"
   ]
  },
  {
   "cell_type": "code",
   "execution_count": 559,
   "metadata": {},
   "outputs": [],
   "source": [
    "if Do_LogReg==1:    \n",
    "    ind1=0\n",
    "    ind2=9\n",
    "    scores_2D = x_train.iloc[:, [ind1,ind2]]\n",
    "\n",
    "    ## Plotting\n",
    "    plt.figure(figsize=(10, 6))\n",
    "    data_2Dplot(scores_2D, y2_train, \\\n",
    "                  legends=[\"Metasyn pos\", \"Metasyn neg\"], \\\n",
    "                  xlabel=x_train.columns[ind1], ylabel=x_train.columns[ind2])\n",
    "    plt.show()"
   ]
  },
  {
   "cell_type": "code",
   "execution_count": 560,
   "metadata": {},
   "outputs": [],
   "source": [
    "if Do_LogReg==1:    \n",
    "    ind1=8\n",
    "    ind2=9\n",
    "    scores_2D = x_train.iloc[:, [ind1,ind2]]\n",
    "\n",
    "    ## Plotting\n",
    "    plt.figure(figsize=(10, 6))\n",
    "    data_2Dplot(scores_2D, y2_train, \\\n",
    "                  legends=[\"Metasyn pos\", \"Metasyn neg\"], \\\n",
    "                  xlabel=x_train.columns[ind1], ylabel=x_train.columns[ind2])\n",
    "    plt.show()"
   ]
  },
  {
   "cell_type": "markdown",
   "metadata": {},
   "source": [
    "## Fitting"
   ]
  },
  {
   "cell_type": "code",
   "execution_count": 561,
   "metadata": {},
   "outputs": [],
   "source": [
    "if Do_LogReg==1:    \n",
    "    ## Import linear_model from sklearn if you haven't\n",
    "    ## Initialize a LogisticRegression instance with C=10e4\n",
    "    decision_logit = linear_model.LogisticRegression(C=1e4)\n",
    "\n",
    "    ## Fit the model with your data\n",
    "    decision_logit.fit(x_train, y2_train) \n",
    "\n",
    "\n",
    "    ## The score (accuracy for classification problems):\n",
    "    decision_logit.score(x_train, y2_train)"
   ]
  },
  {
   "cell_type": "code",
   "execution_count": 562,
   "metadata": {},
   "outputs": [],
   "source": [
    "if Do_LogReg==1:\n",
    "    print(decision_logit.intercept_)\n",
    "    print(decision_logit.coef_)"
   ]
  },
  {
   "cell_type": "markdown",
   "metadata": {},
   "source": [
    "## After fitting"
   ]
  },
  {
   "cell_type": "code",
   "execution_count": 563,
   "metadata": {},
   "outputs": [],
   "source": [
    "if Do_LogReg==1:\n",
    "    # Plot data points\n",
    "    ind1=0\n",
    "    ind2=1\n",
    "    scores_2D = x_train.iloc[:, [ind1,ind2]]\n",
    "\n",
    "    ## Plotting\n",
    "    plt.figure(figsize=(10, 6))\n",
    "    data_2Dplot(scores_2D, y2_train, \\\n",
    "                  legends=[\"Metasyn pos\", \"Metasyn neg\"], \\\n",
    "                  xlabel=x_train.columns[ind1], ylabel=x_train.columns[ind2] )\n",
    "\n",
    "    # Plot decision boundary\n",
    "    logistic_model_2Dplot(x_train, decision_logit)\n",
    "    plt.show()"
   ]
  },
  {
   "cell_type": "code",
   "execution_count": 564,
   "metadata": {},
   "outputs": [],
   "source": [
    "if Do_LogReg==1:\n",
    "    # Plot data points\n",
    "    ind1=2\n",
    "    ind2=3\n",
    "    scores_2D = x_train.iloc[:, [ind1,ind2]]\n",
    "\n",
    "    ## Plotting\n",
    "    plt.figure(figsize=(10, 6))\n",
    "    data_2Dplot(scores_2D, y2_train, \\\n",
    "                  legends=[\"Metasyn pos\", \"Metasyn neg\"], \\\n",
    "                  xlabel=x_train.columns[ind1], ylabel=x_train.columns[ind2] )\n",
    "\n",
    "    # Plot decision boundary\n",
    "    logistic_model_2Dplot(x_train, decision_logit)\n",
    "    plt.show()"
   ]
  },
  {
   "cell_type": "code",
   "execution_count": 565,
   "metadata": {},
   "outputs": [],
   "source": [
    "if Do_LogReg==1:    \n",
    "    # Plot data points\n",
    "    ind1=4\n",
    "    ind2=5\n",
    "    scores_2D = x_train.iloc[:, [ind1,ind2]]\n",
    "\n",
    "    ## Plotting\n",
    "    plt.figure(figsize=(10, 6))\n",
    "    data_2Dplot(scores_2D, y2_train, \\\n",
    "                  legends=[\"Metasyn pos\", \"Metasyn neg\"], \\\n",
    "                  xlabel=x_train.columns[ind1], ylabel=x_train.columns[ind2] )\n",
    "\n",
    "    # Plot decision boundary\n",
    "    logistic_model_2Dplot(x_train, decision_logit)\n",
    "    plt.show()"
   ]
  },
  {
   "cell_type": "code",
   "execution_count": 566,
   "metadata": {},
   "outputs": [],
   "source": [
    "if Do_LogReg==1:    \n",
    "    # Plot data points\n",
    "    ind1=6\n",
    "    ind2=7\n",
    "    scores_2D = x_train.iloc[:, [ind1,ind2]]\n",
    "\n",
    "    ## Plotting\n",
    "    plt.figure(figsize=(10, 6))\n",
    "    data_2Dplot(scores_2D, y2_train, \\\n",
    "                  legends=[\"Metasyn pos\", \"Metasyn neg\"], \\\n",
    "                  xlabel=x_train.columns[ind1], ylabel=x_train.columns[ind2] )\n",
    "\n",
    "    # Plot decision boundary\n",
    "    logistic_model_2Dplot(x_train, decision_logit)\n",
    "    plt.show()"
   ]
  },
  {
   "cell_type": "code",
   "execution_count": 567,
   "metadata": {},
   "outputs": [],
   "source": [
    "if Do_LogReg==1:    \n",
    "    # Plot data points\n",
    "    ind1=0\n",
    "    ind2=8\n",
    "    scores_2D = x_train.iloc[:, [ind1,ind2]]\n",
    "\n",
    "    ## Plotting\n",
    "    plt.figure(figsize=(10, 6))\n",
    "    data_2Dplot(scores_2D, y2_train, \\\n",
    "                  legends=[\"Metasyn pos\", \"Metasyn neg\"], \\\n",
    "                  xlabel=x_train.columns[ind1], ylabel=x_train.columns[ind2] )\n",
    "\n",
    "    # Plot decision boundary\n",
    "    logistic_model_2Dplot(x_train, decision_logit)\n",
    "    plt.show()"
   ]
  },
  {
   "cell_type": "code",
   "execution_count": 568,
   "metadata": {},
   "outputs": [],
   "source": [
    "if Do_LogReg==1:    \n",
    "    # Plot data points\n",
    "    ind1=0\n",
    "    ind2=9\n",
    "    scores_2D = x_train.iloc[:, [ind1,ind2]]\n",
    "\n",
    "    ## Plotting\n",
    "    plt.figure(figsize=(10, 6))\n",
    "    data_2Dplot(scores_2D, y2_train, \\\n",
    "                  legends=[\"Metasyn pos\", \"Metasyn neg\"], \\\n",
    "                  xlabel=x_train.columns[ind1], ylabel=x_train.columns[ind2] )\n",
    "\n",
    "    # Plot decision boundary\n",
    "    logistic_model_2Dplot(x_train, decision_logit)\n",
    "    plt.show()"
   ]
  },
  {
   "cell_type": "code",
   "execution_count": 569,
   "metadata": {},
   "outputs": [],
   "source": [
    "if Do_LogReg==1:    \n",
    "    # Plot data points\n",
    "    ind1=8\n",
    "    ind2=9\n",
    "    scores_2D = x_train.iloc[:, [ind1,ind2]]\n",
    "\n",
    "    ## Plotting\n",
    "    plt.figure(figsize=(10, 6))\n",
    "    data_2Dplot(scores_2D, y2_train, \\\n",
    "                  legends=[\"Metasyn pos\", \"Metasyn neg\"], \\\n",
    "                  xlabel=x_train.columns[ind1], ylabel=x_train.columns[ind2] )\n",
    "\n",
    "    # Plot decision boundary\n",
    "    logistic_model_2Dplot(x_train, decision_logit)\n",
    "    plt.show()"
   ]
  },
  {
   "cell_type": "code",
   "execution_count": 570,
   "metadata": {},
   "outputs": [],
   "source": [
    "if Do_LogReg==1:    \n",
    "    # Plot data points\n",
    "    ind1=8\n",
    "    ind2=9\n",
    "    scores_2D = x_train.iloc[:, [ind1,ind2]]\n",
    "\n",
    "    ## Plotting\n",
    "    plt.figure(figsize=(10, 6))\n",
    "    data_2Dplot(scores_2D, y2_train, \\\n",
    "                  legends=[\"Metasyn pos\", \"Metasyn neg\"], \\\n",
    "                  xlabel=x_train.columns[ind1], ylabel=x_train.columns[ind2] )\n",
    "\n",
    "    # Plot decision boundary\n",
    "    logistic_model_2Dplot(x_train, decision_logit)\n",
    "    plt.show()"
   ]
  },
  {
   "cell_type": "code",
   "execution_count": 571,
   "metadata": {
    "collapsed": true
   },
   "outputs": [],
   "source": [
    "# Alternative visualization\n",
    "# Plot data points and decision boundary\n",
    "if 0: \n",
    "    ind1=8\n",
    "    ind2=9\n",
    "\n",
    "    plt.figure(figsize=(10, 6))\n",
    "\n",
    "    plotModel(\n",
    "        decision_logit,\n",
    "        x_train.iloc[:, ind1].values.reshape(-1, 1),\n",
    "        x_train.iloc[:, ind2].values.reshape(-1, 1),\n",
    "        label=decision.values.reshape(-1, 1)\n",
    "    )\n",
    "    plt.show()"
   ]
  },
  {
   "cell_type": "code",
   "execution_count": 572,
   "metadata": {},
   "outputs": [],
   "source": [
    "if Do_LogReg==1:\n",
    "    plt.rcParams['figure.figsize'] = (7,5)\n",
    "    values = decision_logit.intercept_+np.sum(decision_logit.coef_.reshape(1,10)*x_train, axis=1)\n",
    "    probas = decision_logit.predict_proba(x_train)[:,1]\n",
    "    values, probas = zip(*sorted(zip(values, probas)))  # sort the x coordinates monotonically\n",
    "    plt.plot(values, probas, label='sigmoid curve')\n",
    "    plt.legend(loc=2)\n",
    "    plt.title('linear predictions vs predicted probabilities')\n",
    "    plt.xlabel('feature')\n",
    "    plt.ylabel('probability')"
   ]
  },
  {
   "cell_type": "code",
   "execution_count": 573,
   "metadata": {},
   "outputs": [],
   "source": [
    "if Do_LogReg==1:\n",
    "    from sklearn.metrics import confusion_matrix\n",
    "    from sklearn.metrics import classification_report\n",
    "\n",
    "    print(\"\\ndecision_logit.score(x_test, y2_test):\")\n",
    "    print( decision_logit.score(x_test, y2_test) )\n",
    "\n",
    "    confusion_mat_test = confusion_matrix( decision_logit.predict(x_test), y2_test)   \n",
    "    # using x_test \n",
    "    print('\\nconfusion_mat_test')\n",
    "    print(confusion_mat_test)\n",
    "    # lsw)  TN FP\n",
    "    #       FN TP\n",
    "\n",
    "    print(\"\\nclassification_report( y2_test, predict(x_test)\")\n",
    "    target_names = ['MetSyn neg', 'MetSyn pos']\n",
    "    print(classification_report( y2_test, decision_logit.predict(x_test), target_names=target_names))\n",
    "    \n",
    "    print(\"specificity:\",confusion_mat_test[0,0]/(confusion_mat_test[0,0]+confusion_mat_test[0,1]) )\n",
    "    # after re-fit, using x_test"
   ]
  },
  {
   "cell_type": "code",
   "execution_count": null,
   "metadata": {
    "collapsed": true
   },
   "outputs": [],
   "source": []
  },
  {
   "cell_type": "code",
   "execution_count": null,
   "metadata": {
    "collapsed": true
   },
   "outputs": [],
   "source": []
  },
  {
   "cell_type": "markdown",
   "metadata": {
    "collapsed": true
   },
   "source": [
    "# Logistic Regression with CV"
   ]
  },
  {
   "cell_type": "code",
   "execution_count": 574,
   "metadata": {
    "collapsed": true
   },
   "outputs": [],
   "source": [
    "# dir(linear_model.LogisticRegression)"
   ]
  },
  {
   "cell_type": "code",
   "execution_count": 575,
   "metadata": {
    "collapsed": true
   },
   "outputs": [],
   "source": [
    "if 0:\n",
    "    # import sklearn.cross_validation as cv\n",
    "    import sklearn.model_selection as ms\n",
    "\n",
    "    # import sklearn.cross_validation as cv\n",
    "\n",
    "    # cv_k3s = cv.StratifiedKFold(y1, n_folds=N_folds)\n",
    "    ms_k3 = ms.KFold(n_splits=N_folds)\n",
    "    # cv_k3 = cv.KFold(len(y1), n_folds=N_folds)\n",
    "\n",
    "    n_tr = []\n",
    "    n_val = []\n",
    "    accu_tr = []\n",
    "    accu_val = []\n",
    "\n",
    "    decision_logit = linear_model.LogisticRegression()\n",
    "\n",
    "    # for train_idx, val_idx in cv_k3:\n",
    "    for train_idx, val_idx in ms_k3.split(X=x1, y=y1):\n",
    "        decision_logit.fit( x_train.iloc[train_idx,], y2_train.iloc[train_idx] )\n",
    "        n_tr.append( len(train_idx) )\n",
    "        n_val.append( len(val_idx) )\n",
    "        comp_metric_tr.append(np.sqrt(   np.mean(  (y1.iloc[train_idx] - ols.predict(x1.iloc[train_idx,]))**2  )   ))\n",
    "        comp_metric_val.append(np.sqrt(   np.mean(  (y1.iloc[val_idx] - ols.predict(x1.iloc[val_idx,]))**2  )   ))\n",
    "        RSS_tr.append(   np.sum((ols.predict(x1.iloc[train_idx,]) - y1.iloc[train_idx]) ** 2) )\n",
    "        RSS_val.append(   np.sum((ols.predict(x1.iloc[val_idx,]) - y1.iloc[val_idx]) ** 2) )\n",
    "        R2_tr.append( ols.score(x1.iloc[train_idx,], y1.iloc[train_idx])) \n",
    "        R2_val.append( ols.score(x1.iloc[val_idx,], y1.iloc[val_idx])) "
   ]
  },
  {
   "cell_type": "markdown",
   "metadata": {
    "collapsed": true
   },
   "source": [
    "# Logistic Regression with CV 2"
   ]
  },
  {
   "cell_type": "code",
   "execution_count": 576,
   "metadata": {},
   "outputs": [],
   "source": [
    "if Do_LogReg==1:\n",
    "    from sklearn.metrics import confusion_matrix\n",
    "    from sklearn.metrics import classification_report    \n",
    "    \n",
    "    decision_logit = linear_model.LogisticRegression()\n",
    "    from sklearn.model_selection import GridSearchCV\n",
    "\n",
    "    # note\n",
    "    # penalty=’l2’, dual=False, tol=0.0001, C=1.0, fit_intercept=True, intercept_scaling=1, \n",
    "    # class_weight=None, random_state=None, solver=’warn’, max_iter=100, multi_class=’warn’, \n",
    "    # verbose=0, warm_start=False, n_jobs=None, l1_ratio=None\n",
    "\n",
    "    # penalty : str, ‘l1’, ‘l2’, ‘elasticnet’ or ‘none’, optional (default=’l2’)\n",
    "    # C : float, optional (default=1.0). Inverse of regularization strength; must be a positive float. Like in support vector machines, smaller values specify stronger regularization.\n",
    "    # solver : str, {‘newton-cg’, ‘lbfgs’, ‘liblinear’, ‘sag’, ‘saga’}, optional (default=’liblinear’).\n",
    "        # Algorithm to use in the optimization problem.\n",
    "    # l1_ratio : float or None, optional (default=None). The Elastic-Net mixing parameter, \n",
    "        # with 0 <= l1_ratio <= 1. Only used if penalty='elasticnet'`. Setting ``l1_ratio=0 is \n",
    "        # equivalent to using penalty='l2', while setting l1_ratio=1 is equivalent to using \n",
    "        # penalty='l1'. For 0 < l1_ratio <1, the penalty is a combination of L1 and L2.    \n",
    "\n",
    "    grid_param_LR_choice = int(input('1: full-length grid search in logistic regression, 2: simple one  '))\n",
    "\n",
    "    if grid_param_LR_choice==1:\n",
    "        grid_para_LR = [{ \"penalty\":['l1', 'l2'], \"C\": np.linspace(1e-4,10.0001,1001)}]    \n",
    "        # \"solver\": [‘newton-cg’, ‘lbfgs’, ‘liblinear’, ‘sag’, ‘saga’] => removed due to code errors\n",
    "        # \"ll_ratio\": [0]\n",
    "    elif grid_param_LR_choice==2:\n",
    "        grid_para_LR = [{ \"penalty\":['l1', 'l2'], \"C\": [0.001, 0.01, 0.1, 1, 10, 100, 1000] }]    \n",
    "        # \"solver\": [‘liblinear’] => removed due to code errors\n",
    "        # \"ll_ratio\": [0]\n",
    "\n",
    "    decision_logit.set_params(random_state=108)"
   ]
  },
  {
   "cell_type": "code",
   "execution_count": 577,
   "metadata": {},
   "outputs": [],
   "source": [
    "if Do_LogReg==1:\n",
    "    grid_search_LR = GridSearchCV(estimator=decision_logit, param_grid=grid_para_LR, \\\n",
    "                              scoring=scoring_crit, cv=N_folds, n_jobs=-1)\n",
    "    grid_search_LR.fit(x_train, y2_train) # does CV "
   ]
  },
  {
   "cell_type": "code",
   "execution_count": 578,
   "metadata": {},
   "outputs": [],
   "source": [
    "if Do_LogReg==1:    \n",
    "    print(list(grid_search_LR.cv_results_.keys()))\n",
    "\n",
    "    print('=========== grid_search_LR.cv_results_ ===========')\n",
    "    print( grid_search_LR.cv_results_ )\n",
    "    print('=========== grid_search_LR.grid_scores_ ==========')\n",
    "    print( grid_search_LR.grid_scores_  ) \n",
    "\n",
    "    ## best parameters\n",
    "    print( '============ grid_search_LR.best_params_ ============' )\n",
    "    print( grid_search_LR.best_params_ )\n",
    "\n",
    "    ## best score # \n",
    "    print( '============ grid_search_LR.best_score_ =============' )\n",
    "    print( grid_search_LR.best_score_ )\n",
    "\n",
    "    target_names = ['MetSyn 0', 'MetSyn 1']\n",
    "    print(\"\\nclassification_report( y2_train, best_estimator(x_train)\")\n",
    "    print(classification_report( y2_train, grid_search_LR.best_estimator_.predict(x_train), target_names=target_names))\n",
    "    # before re-fit, using x_train"
   ]
  },
  {
   "cell_type": "code",
   "execution_count": 579,
   "metadata": {},
   "outputs": [],
   "source": [
    "if Do_LogReg==1:\n",
    "    decision_logit_best = grid_search_LR.best_estimator_\n",
    "\n",
    "    decision_logit_best.fit(x_train, y2_train) # trained again\n",
    "\n",
    "    print(\"\\n====== decision_logit_best.score(x_train, y2_train): ======\")\n",
    "    print(decision_logit_best.score(x_train, y2_train)) # after re-fit, using x_train  \n",
    "\n",
    "    print(\"\\n====== decision_logit_best.score(x_test, y2_test)): ======\")\n",
    "    print(decision_logit_best.score(x_test, y2_test)) # after re-fit, using x_train   "
   ]
  },
  {
   "cell_type": "code",
   "execution_count": 580,
   "metadata": {},
   "outputs": [],
   "source": [
    "if Do_LogReg==1:     \n",
    "    confusion_mat_test = confusion_matrix( decision_logit_best.predict(x_test), y2_test)   \n",
    "    # after re-fit, using x_test \n",
    "    print('\\nconfusion_mat_test')\n",
    "    print(confusion_mat_test)\n",
    "    \n",
    "    # lsw) TN FP\n",
    "    #      FN TP"
   ]
  },
  {
   "cell_type": "code",
   "execution_count": 581,
   "metadata": {},
   "outputs": [],
   "source": [
    "if Do_LogReg==1:    \n",
    "    print(\"\\nclassification_report( y2_test, predict(x_test)\")\n",
    "    print(classification_report( y2_test, decision_logit_best.predict(x_test), target_names=target_names))\n",
    "    # after re-fit, using x_test \n",
    "    \n",
    "    print(\"specificity:\",confusion_mat_test[0,0]/(confusion_mat_test[0,0]+confusion_mat_test[0,1]) )"
   ]
  },
  {
   "cell_type": "markdown",
   "metadata": {},
   "source": [
    "## ROC plot after logistic regression"
   ]
  },
  {
   "cell_type": "code",
   "execution_count": 582,
   "metadata": {},
   "outputs": [
    {
     "ename": "SyntaxError",
     "evalue": "invalid syntax (<ipython-input-582-47a96a4a87ac>, line 2)",
     "output_type": "error",
     "traceback": [
      "\u001b[0;36m  File \u001b[0;32m\"<ipython-input-582-47a96a4a87ac>\"\u001b[0;36m, line \u001b[0;32m2\u001b[0m\n\u001b[0;31m    moif Do_LogReg==1:\u001b[0m\n\u001b[0m                 ^\u001b[0m\n\u001b[0;31mSyntaxError\u001b[0m\u001b[0;31m:\u001b[0m invalid syntax\n"
     ]
    }
   ],
   "source": [
    "# https://scikit-learn.org/stable/auto_examples/model_selection/plot_roc.html\n",
    "moif Do_LogReg==1: \n",
    "    from sklearn.metrics import roc_curve, auc\n",
    "\n",
    "    y2_test_score = decision_logit_best.decision_function(x_test)\n",
    "\n",
    "    # Compute ROC curve and ROC area for each class\n",
    "    fpr = dict()\n",
    "    tpr = dict()\n",
    "    roc_auc = dict()\n",
    "\n",
    "    n_classes = 2\n",
    "\n",
    "    fpr[0], tpr[0], _ = roc_curve(y2_test, y2_test_score)\n",
    "    roc_auc[0] = auc(fpr[0], tpr[0])\n",
    "\n",
    "    # Compute micro-average ROC curve and ROC area\n",
    "    fpr[\"micro\"], tpr[\"micro\"], _ = roc_curve(y2_test.ravel(), y2_test_score.ravel())\n",
    "    roc_auc[\"micro\"] = auc(fpr[\"micro\"], tpr[\"micro\"])\n",
    "\n",
    "    # Plot of a ROC curve for a specific class\n",
    "    plt.figure()\n",
    "    lw = 2\n",
    "    plt.plot(fpr[0], tpr[0], color='darkorange',lw=lw, label='ROC curve (area = %0.2f)' % roc_auc[0])\n",
    "    plt.plot([0, 1], [0, 1], color='navy', lw=lw, linestyle='--')\n",
    "    plt.xlim([0.0, 1.0])\n",
    "    plt.ylim([0.0, 1.05])\n",
    "    plt.xlabel('False Positive Rate')\n",
    "    plt.ylabel('True Positive Rate')\n",
    "    plt.title('Receiver operating characteristic')\n",
    "    plt.legend(loc=\"lower right\")\n",
    "    plt.show()"
   ]
  },
  {
   "cell_type": "code",
   "execution_count": null,
   "metadata": {
    "collapsed": true
   },
   "outputs": [],
   "source": []
  },
  {
   "cell_type": "markdown",
   "metadata": {},
   "source": [
    "# Find significance of slope coefficients after Logistic Regression: come back later"
   ]
  },
  {
   "cell_type": "code",
   "execution_count": null,
   "metadata": {},
   "outputs": [],
   "source": [
    "if 0: \n",
    "    import statsmodels.api as sm\n",
    "    x_add_const = sm.add_constant(x_train)\n",
    "    ols = sm.OLS(y2_train, x_add_const)\n",
    "    ans = ols.fit()\n",
    "    print(ans.summary())"
   ]
  },
  {
   "cell_type": "markdown",
   "metadata": {
    "collapsed": true
   },
   "source": [
    "# RFC with CV for Metasyn"
   ]
  },
  {
   "cell_type": "code",
   "execution_count": null,
   "metadata": {
    "collapsed": true
   },
   "outputs": [],
   "source": [
    "if Do_RF==1:\n",
    "    from sklearn import ensemble\n",
    "    from sklearn.model_selection import GridSearchCV\n",
    "    from sklearn.metrics import confusion_matrix\n",
    "    from sklearn.metrics import classification_report\n",
    "    randomForest = ensemble.RandomForestClassifier()"
   ]
  },
  {
   "cell_type": "code",
   "execution_count": null,
   "metadata": {
    "collapsed": true
   },
   "outputs": [],
   "source": [
    "if Do_RF==1:\n",
    "    if RF_grid_choice ==1 :\n",
    "        grid_para_forest = [{\n",
    "            \"n_estimators\": [25, 50, 100],\n",
    "            \"criterion\": [\"gini\", \"entropy\"],\n",
    "            \"min_samples_leaf\": range(1, 10),\n",
    "            \"min_samples_split\": np.linspace(start=2, stop=30, num=15, dtype=int),\n",
    "            \"random_state\": [42]}]    \n",
    "    elif RF_grid_choice == 2:\n",
    "        grid_para_forest = [{\n",
    "            \"n_estimators\": [25],\n",
    "            \"criterion\": [\"gini\", \"entropy\"],\n",
    "            \"min_samples_leaf\":[5,10],\n",
    "            \"min_samples_split\": [15],\n",
    "            \"random_state\": [42]}]     \n",
    "    elif RF_grid_choice == 3:\n",
    "        grid_para_forest = [{\n",
    "            \"n_estimators\": [25, 50, 100],\n",
    "            \"criterion\": [\"gini\", \"entropy\"],\n",
    "            \"min_samples_leaf\":[3,5,10],\n",
    "            \"min_samples_split\": np.linspace(start=2, stop=60, num=15, dtype=int),\n",
    "            \"random_state\": [42]}]    \n",
    "\n",
    "    grid_search_forest = GridSearchCV(randomForest, grid_para_forest, scoring=scoring_crit, \\\n",
    "                                      cv=N_folds, n_jobs=-1)\n",
    "    %time grid_search_forest.fit(x_train, y2_train)"
   ]
  },
  {
   "cell_type": "code",
   "execution_count": null,
   "metadata": {},
   "outputs": [],
   "source": [
    "if Do_RF==1:    \n",
    "    # grid_search_forest.grid_scores_ : deprecated\n",
    "    \n",
    "    print(\"\\n ====== grid_search_forest.cv_results_.keys ======\")\n",
    "    print(list(grid_search_forest.cv_results_.keys()))    \n",
    "    print(grid_search_forest.cv_results_.keys())\n",
    "\n",
    "    print( \"======= grid_search_forest.best_params_: ======\" )\n",
    "    print( grid_search_forest.best_params_ )\n",
    "    \n",
    "    print( \"\\n====== grid_search_forest.best_score_ ======\" )\n",
    "    print( grid_search_forest.best_score_ ) # on val fold # accuray, f1, ..etc\n",
    "        # note\n",
    "        # best_score_: Score of best_estimator on the hold out data.\n",
    "        # best_params_: Parameter setting that gave the best results on the hold out data.    \n",
    "    \n",
    "    target_names = ['MetSyn 0', 'MetSyn 1']\n",
    "    print(\"\\nclassification_report( y2_train, best_estimator(x_train)\")\n",
    "    print(classification_report( y2_train, grid_search_forest.best_estimator_.predict(x_train), target_names=target_names))\n",
    "    # before re-fit, using x_train"
   ]
  },
  {
   "cell_type": "code",
   "execution_count": null,
   "metadata": {
    "collapsed": true
   },
   "outputs": [],
   "source": [
    "if Do_RF==1:     \n",
    "    rforest_best = grid_search_forest.best_estimator_\n",
    "\n",
    "    rforest_best.fit(x_train, y2_train) # trained again\n",
    "    \n",
    "    print(\"\\n====== rforest_best.score(x_train, y2_train): ======\")\n",
    "    print(rforest_best.score(x_train, y2_train)) # after re-fit, using x_train\n",
    "    \n",
    "    print(\"\\n====== rforest_best.score(x_test, y2_test): ======\")\n",
    "    print(rforest_best.score(x_test, y2_test)) # after re-fit, using x_train    "
   ]
  },
  {
   "cell_type": "code",
   "execution_count": null,
   "metadata": {
    "collapsed": true
   },
   "outputs": [],
   "source": [
    "if Do_RF==1:     \n",
    "    confusion_mat_test = confusion_matrix( rforest_best.predict(x_test), y2_test)   \n",
    "    # after re-fit, using x_test \n",
    "    print('\\nconfusion_mat_test')\n",
    "    print(confusion_mat_test)\n",
    "    \n",
    "    # lsw) TN FP\n",
    "    #      FN TP    "
   ]
  },
  {
   "cell_type": "code",
   "execution_count": null,
   "metadata": {
    "collapsed": true,
    "scrolled": true
   },
   "outputs": [],
   "source": [
    "if Do_RF==1:     \n",
    "    print(\"\\nclassification_report( y2_test, predict(x_test)\")\n",
    "    print(classification_report( y2_test, rforest_best.predict(x_test), target_names=target_names))\n",
    "    \n",
    "    print(\"specificity:\",confusion_mat_test[0,0]/(confusion_mat_test[0,0]+confusion_mat_test[0,1]) )\n",
    "    # after re-fit, using x_test "
   ]
  },
  {
   "cell_type": "code",
   "execution_count": null,
   "metadata": {
    "collapsed": true
   },
   "outputs": [],
   "source": [
    "if Do_RF==1: \n",
    "    rforest_best.feature_importances_"
   ]
  },
  {
   "cell_type": "code",
   "execution_count": null,
   "metadata": {
    "collapsed": true,
    "scrolled": true
   },
   "outputs": [],
   "source": [
    "if Do_RF==1: \n",
    "    feature_importance = list(zip(x.columns, rforest_best.feature_importances_))\n",
    "    dtype = [('feature', 'S15'), ('importance', 'float')]\n",
    "    feature_importance = np.array(feature_importance, dtype=dtype)\n",
    "    feature_sort = np.sort(feature_importance, order='importance')[::-1]\n",
    "    name, score = zip(*list(feature_sort))\n",
    "    pd.DataFrame({'name':name,'score':score})[:15].plot.bar(x='name', y='score', color=['blue']) \n",
    "    plt.title(\"feature importance, obtained from rforest best model\")\n",
    "    plt.xticks(rotation=45)"
   ]
  },
  {
   "cell_type": "markdown",
   "metadata": {},
   "source": [
    "## ROC curve after RFC"
   ]
  },
  {
   "cell_type": "code",
   "execution_count": null,
   "metadata": {
    "collapsed": true
   },
   "outputs": [],
   "source": [
    "# https://scikit-learn.org/stable/auto_examples/model_selection/plot_roc.html\n",
    "if Do_RF==1: \n",
    "    from sklearn.metrics import roc_curve, auc\n",
    "\n",
    "    y2_test_score =  rforest_best.predict_proba(x_test)[:,1]\n",
    "\n",
    "    # Compute ROC curve and ROC area for each class\n",
    "    fpr = dict()\n",
    "    tpr = dict()\n",
    "    roc_auc = dict()\n",
    "\n",
    "    n_classes = 2\n",
    "\n",
    "    fpr[0], tpr[0], _ = roc_curve(y2_test, y2_test_score)\n",
    "    roc_auc[0] = auc(fpr[0], tpr[0])\n",
    "\n",
    "    # Compute micro-average ROC curve and ROC area\n",
    "    fpr[\"micro\"], tpr[\"micro\"], _ = roc_curve(y2_test.ravel(), y2_test_score.ravel())\n",
    "    roc_auc[\"micro\"] = auc(fpr[\"micro\"], tpr[\"micro\"])\n",
    "\n",
    "    # Plot of a ROC curve for a specific class\n",
    "    plt.figure()\n",
    "    lw = 2\n",
    "    plt.plot(fpr[0], tpr[0], color='darkorange',lw=lw, label='ROC curve (area = %0.2f)' % roc_auc[0])\n",
    "    plt.plot([0, 1], [0, 1], color='navy', lw=lw, linestyle='--')\n",
    "    plt.xlim([0.0, 1.0])\n",
    "    plt.ylim([0.0, 1.05])\n",
    "    plt.xlabel('False Positive Rate')\n",
    "    plt.ylabel('True Positive Rate')\n",
    "    plt.title('Receiver operating characteristic')\n",
    "    plt.legend(loc=\"lower right\")\n",
    "    plt.show()"
   ]
  },
  {
   "cell_type": "markdown",
   "metadata": {},
   "source": [
    "# RF regression with CV for Metascore"
   ]
  },
  {
   "cell_type": "code",
   "execution_count": null,
   "metadata": {
    "collapsed": true
   },
   "outputs": [],
   "source": [
    "if Do_RF ==1:\n",
    "    from sklearn import ensemble\n",
    "    rforest = ensemble.RandomForestRegressor()\n",
    "    from sklearn.model_selection import GridSearchCV\n",
    "\n",
    "    grid_param_forest_choice = input('1: full-length grid search in random forest, 2: simple one:, 3: fullest')\n",
    "    grid_param_forest_choice = int(grid_param_forest_choice)\n",
    "\n",
    "    if (grid_param_forest_choice==1):\n",
    "        # full version\n",
    "        grid_para_forest = [{ \"n_estimators\":range(10, 110, 10), \"criterion\": [\"mse\", \"friedman_mse\", \"mae\"],\\\n",
    "                           \"min_samples_split\": np.linspace(start=2, stop=30, num=15, dtype=int), \\\n",
    "                           \"min_samples_leaf\": range(1, 10),'max_features': ['auto', 'sqrt', 'log2'],\\\n",
    "                            \"max_depth\": range(1, 31),\"n_estimators\": range(10, 110, 10) }]\n",
    "    elif (grid_param_forest_choice==2):\n",
    "        # simple version\n",
    "        grid_para_forest = [{ \"n_estimators\":range(10, 110, 10), \"criterion\": [\"mse\"],\\\n",
    "                           \"min_samples_split\": np.linspace(start=2, stop=30, num=15, dtype=int), \\\n",
    "                           \"min_samples_leaf\": range(1, 10),'max_features': ['auto']}]    \n",
    "    elif (grid_param_forest_choice==3):\n",
    "        # full version\n",
    "        grid_para_forest = [{ \"n_estimators\":range(10, 110, 10), \"criterion\": [\"mse\", \"friedman_mse\", \"mae\"], \\\n",
    "                           \"min_samples_split\": np.linspace(start=2, stop=30, num=15, dtype=int), \\\n",
    "                           \"min_samples_leaf\": range(1, 10),'max_features': ['auto', 'sqrt', 'log2', 2,4,6,8,10, 12, 14, 16, 18, 20, 22, 24, 26]}]\n",
    "\n",
    "    rforest.set_params(random_state=108)\n",
    "\n",
    "    grid_search_forest = GridSearchCV(estimator=rforest, param_grid=grid_para_forest, scoring='neg_mean_squared_error', cv=N_folds, n_jobs=-1)\n",
    "\n",
    "    ## training, does CV\n",
    "    grid_search_forest.fit(x_train, y1_train)"
   ]
  },
  {
   "cell_type": "code",
   "execution_count": null,
   "metadata": {
    "collapsed": true
   },
   "outputs": [],
   "source": [
    "if Do_RF==1:\n",
    "    # grid_search_forest.grid_scores_ : deprecated\n",
    "    \n",
    "    print(\"\\n ====== grid_search_forest.cv_results_.keys ======\")\n",
    "    print(list(grid_search_forest.cv_results_.keys()))    \n",
    "    print(grid_search_forest.cv_results_)\n",
    "    \n",
    "    print( \"======= grid_search_forest.best_params_: ======\" )\n",
    "    print( grid_search_forest.best_params_ )\n",
    "    \n",
    "    print( \"\\n====== grid_search_forest.best_score_ ======\" )\n",
    "    print( grid_search_forest.best_score_ ) # on val fold # accuray, f1, ..etc\n",
    "        # note\n",
    "        # best_score_: Score of best_estimator on the hold out data.\n",
    "        # best_params_: Parameter setting that gave the best results on the hold out data.    "
   ]
  },
  {
   "cell_type": "code",
   "execution_count": null,
   "metadata": {
    "collapsed": true
   },
   "outputs": [],
   "source": [
    "if Do_RF==1:\n",
    "    # re-training    \n",
    "    rforest_best = grid_search_forest.best_estimator_\n",
    "    rforest_best.fit(x_train, y2_train) # trained again\n",
    "    \n",
    "    print(\"\\n====== rforest_best.score(x_train, y2_train): ======\")\n",
    "    print(rforest_best.score(x_train, y2_train)) # after re-fit, using x_train  \n",
    "    \n",
    "    print(\"\\n====== rforest_best.score(x_test, y1_test): ======\")\n",
    "    print(rforest_best.score(x_test, y1_test)) # after re-fit, using x_train       "
   ]
  },
  {
   "cell_type": "code",
   "execution_count": null,
   "metadata": {
    "collapsed": true
   },
   "outputs": [],
   "source": [
    "if Do_RF==1:\n",
    "    rforest_best.feature_importances_"
   ]
  },
  {
   "cell_type": "code",
   "execution_count": null,
   "metadata": {
    "collapsed": true
   },
   "outputs": [],
   "source": [
    "if Do_RF==1:     \n",
    "    feature_importance = list(zip(x.columns, rforest_best.feature_importances_))\n",
    "    dtype = [('feature', 'S15'), ('importance', 'float')]\n",
    "    feature_importance = np.array(feature_importance, dtype=dtype)\n",
    "    feature_sort = np.sort(feature_importance, order='importance')[::-1]\n",
    "    name, score = zip(*list(feature_sort))\n",
    "    pd.DataFrame({'name':name,'score':score})[:15].plot.bar(x='name', y='score', color=['blue']) \n",
    "    plt.title(\"feature importance, obtained from rforest best model\")\n",
    "    plt.xticks(rotation=45)"
   ]
  },
  {
   "cell_type": "markdown",
   "metadata": {},
   "source": [
    "# KNN with CV for Metasyn"
   ]
  },
  {
   "cell_type": "code",
   "execution_count": null,
   "metadata": {
    "collapsed": true
   },
   "outputs": [],
   "source": [
    "if Do_KNN==1:\n",
    "    from sklearn import neighbors\n",
    "    knn = neighbors.KNeighborsClassifier()"
   ]
  },
  {
   "cell_type": "code",
   "execution_count": null,
   "metadata": {
    "collapsed": true
   },
   "outputs": [],
   "source": [
    "if Do_KNN==1:\n",
    "    from sklearn.model_selection import GridSearchCV\n",
    "    from sklearn import datasets\n",
    "\n",
    "    grid_param = [{'weights': ['uniform', 'distance'], 'n_neighbors': range(3, 31), 'p': [1, 2]}]\n",
    "\n",
    "    para_search = GridSearchCV(knn, grid_param, scoring=scoring_crit, cv=N_folds, return_train_score=True)\n",
    "    para_search = para_search.fit(x_train, y2_train)"
   ]
  },
  {
   "cell_type": "code",
   "execution_count": null,
   "metadata": {
    "collapsed": true
   },
   "outputs": [],
   "source": [
    "if Do_KNN==1:    \n",
    "    print(list(para_search.cv_results_.keys()))\n",
    "    print( para_search.cv_results_ )\n",
    "    print( para_search.grid_scores )"
   ]
  },
  {
   "cell_type": "code",
   "execution_count": null,
   "metadata": {
    "collapsed": true
   },
   "outputs": [],
   "source": [
    "if Do_KNN==1:\n",
    "    print(para_search.best_score_)  # perf on val fold\n",
    "    print(para_search.best_params_) "
   ]
  },
  {
   "cell_type": "code",
   "execution_count": null,
   "metadata": {
    "collapsed": true
   },
   "outputs": [],
   "source": [
    "if Do_KNN==1:\n",
    "    knn_best = para_search.best_estimator_\n",
    "    target_names = ['MetSyn 0', 'MetSyn 1']\n",
    "    print(classification_report( y2_train, para_search.best_estimator_.predict(x_train), target_names=target_names))\n",
    "    # w/o re-fitting yet "
   ]
  },
  {
   "cell_type": "code",
   "execution_count": null,
   "metadata": {
    "collapsed": true
   },
   "outputs": [],
   "source": [
    "if Do_KNN==1:\n",
    "    knn_best.fit(x_train, y2_train) # train again \n",
    "    knn_best.score(x_train, y2_train) # performance of x_train on the re-fit model"
   ]
  },
  {
   "cell_type": "code",
   "execution_count": null,
   "metadata": {
    "collapsed": true
   },
   "outputs": [],
   "source": [
    "if Do_KNN==1:\n",
    "    print(classification_report( y2_test, knn_best.predict(x_test), target_names=target_names))"
   ]
  },
  {
   "cell_type": "code",
   "execution_count": null,
   "metadata": {
    "collapsed": true
   },
   "outputs": [],
   "source": [
    "if Do_KNN==1:\n",
    "    confusion_mat_test = confusion_matrix( rforest_best.predict(x_test), y2_test)   \n",
    "    \n",
    "    # lsw) TN FP\n",
    "    #      FN TP"
   ]
  }
 ],
 "metadata": {
  "anaconda-cloud": {},
  "kernelspec": {
   "display_name": "Python 3",
   "language": "python",
   "name": "python3"
  },
  "language_info": {
   "codemirror_mode": {
    "name": "ipython",
    "version": 3
   },
   "file_extension": ".py",
   "mimetype": "text/x-python",
   "name": "python",
   "nbconvert_exporter": "python",
   "pygments_lexer": "ipython3",
   "version": "3.6.8"
  }
 },
 "nbformat": 4,
 "nbformat_minor": 2
}
